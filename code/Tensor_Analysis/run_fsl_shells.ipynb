{
 "cells": [
  {
   "cell_type": "code",
   "execution_count": 1,
   "metadata": {},
   "outputs": [],
   "source": [
    "import pandas as pd \n",
    "import numpy as np\n",
    "import os\n",
    "import re\n",
    "import subprocess"
   ]
  },
  {
   "cell_type": "code",
   "execution_count": 2,
   "metadata": {},
   "outputs": [],
   "source": [
    "\n",
    "cwd=os.getcwd()\n",
    "fnames=pd.read_csv('../../rest_task_outlier_exclusion_data.csv')\n",
    "fnames=fnames['fname']\n"
   ]
  },
  {
   "cell_type": "code",
   "execution_count": 6,
   "metadata": {},
   "outputs": [
    {
     "name": "stdout",
     "output_type": "stream",
     "text": [
      "sub-212_task-rest_run-02_bold.json\n"
     ]
    },
    {
     "data": {
      "text/plain": [
       "'RPTJ'"
      ]
     },
     "metadata": {},
     "output_type": "display_data"
    },
    {
     "name": "stdout",
     "output_type": "stream",
     "text": [
      "sub-212_task-rest_run-01_bold.json\n"
     ]
    },
    {
     "data": {
      "text/plain": [
       "'SHAMBOTH'"
      ]
     },
     "metadata": {},
     "output_type": "display_data"
    },
    {
     "name": "stdout",
     "output_type": "stream",
     "text": [
      "sub-218_task-rest_run-03_bold.json\n"
     ]
    },
    {
     "data": {
      "text/plain": [
       "'VLPFC'"
      ]
     },
     "metadata": {},
     "output_type": "display_data"
    },
    {
     "name": "stdout",
     "output_type": "stream",
     "text": [
      "sub-218_task-rest_run-01_bold.json\n"
     ]
    },
    {
     "data": {
      "text/plain": [
       "'SHAMBOTH'"
      ]
     },
     "metadata": {},
     "output_type": "display_data"
    },
    {
     "name": "stdout",
     "output_type": "stream",
     "text": [
      "sub-218_task-rest_run-04_bold.json\n"
     ]
    },
    {
     "data": {
      "text/plain": [
       "'BOTH'"
      ]
     },
     "metadata": {},
     "output_type": "display_data"
    },
    {
     "name": "stdout",
     "output_type": "stream",
     "text": [
      "sub-218_task-rest_run-02_bold.json\n"
     ]
    },
    {
     "data": {
      "text/plain": [
       "'RPTJ'"
      ]
     },
     "metadata": {},
     "output_type": "display_data"
    },
    {
     "name": "stdout",
     "output_type": "stream",
     "text": [
      "sub-228_task-rest_run-01_bold.json\n"
     ]
    },
    {
     "data": {
      "text/plain": [
       "'SHAMBOTH'"
      ]
     },
     "metadata": {},
     "output_type": "display_data"
    },
    {
     "name": "stdout",
     "output_type": "stream",
     "text": [
      "sub-228_task-rest_run-04_bold.json\n"
     ]
    },
    {
     "data": {
      "text/plain": [
       "'BOTH'"
      ]
     },
     "metadata": {},
     "output_type": "display_data"
    },
    {
     "name": "stdout",
     "output_type": "stream",
     "text": [
      "sub-228_task-rest_run-03_bold.json\n"
     ]
    },
    {
     "data": {
      "text/plain": [
       "'VLPFC'"
      ]
     },
     "metadata": {},
     "output_type": "display_data"
    },
    {
     "name": "stdout",
     "output_type": "stream",
     "text": [
      "sub-228_task-rest_run-02_bold.json\n"
     ]
    },
    {
     "data": {
      "text/plain": [
       "'RPTJ'"
      ]
     },
     "metadata": {},
     "output_type": "display_data"
    },
    {
     "name": "stdout",
     "output_type": "stream",
     "text": [
      "sub-221_task-rest_run-04_bold.json\n"
     ]
    },
    {
     "data": {
      "text/plain": [
       "'RPTJ'"
      ]
     },
     "metadata": {},
     "output_type": "display_data"
    },
    {
     "name": "stdout",
     "output_type": "stream",
     "text": [
      "sub-221_task-rest_run-02_bold.json\n"
     ]
    },
    {
     "data": {
      "text/plain": [
       "'SHAMBOTH'"
      ]
     },
     "metadata": {},
     "output_type": "display_data"
    },
    {
     "name": "stdout",
     "output_type": "stream",
     "text": [
      "sub-221_task-rest_run-01_bold.json\n"
     ]
    },
    {
     "data": {
      "text/plain": [
       "'VLPFC'"
      ]
     },
     "metadata": {},
     "output_type": "display_data"
    },
    {
     "name": "stdout",
     "output_type": "stream",
     "text": [
      "sub-221_task-rest_run-03_bold.json\n"
     ]
    },
    {
     "data": {
      "text/plain": [
       "'BOTH'"
      ]
     },
     "metadata": {},
     "output_type": "display_data"
    },
    {
     "name": "stdout",
     "output_type": "stream",
     "text": [
      "sub-213_task-rest_run-02_bold.json\n"
     ]
    },
    {
     "data": {
      "text/plain": [
       "'RPTJ'"
      ]
     },
     "metadata": {},
     "output_type": "display_data"
    },
    {
     "name": "stdout",
     "output_type": "stream",
     "text": [
      "sub-213_task-rest_run-01_bold.json\n"
     ]
    },
    {
     "data": {
      "text/plain": [
       "'SHAMBOTH'"
      ]
     },
     "metadata": {},
     "output_type": "display_data"
    },
    {
     "name": "stdout",
     "output_type": "stream",
     "text": [
      "sub-213_task-rest_run-04_bold.json\n"
     ]
    },
    {
     "data": {
      "text/plain": [
       "'BOTH'"
      ]
     },
     "metadata": {},
     "output_type": "display_data"
    },
    {
     "name": "stdout",
     "output_type": "stream",
     "text": [
      "sub-213_task-rest_run-03_bold.json\n"
     ]
    },
    {
     "data": {
      "text/plain": [
       "'VLPFC'"
      ]
     },
     "metadata": {},
     "output_type": "display_data"
    },
    {
     "name": "stdout",
     "output_type": "stream",
     "text": [
      "sub-215_task-rest_run-01_bold.json\n"
     ]
    },
    {
     "data": {
      "text/plain": [
       "'VLPFC'"
      ]
     },
     "metadata": {},
     "output_type": "display_data"
    },
    {
     "name": "stdout",
     "output_type": "stream",
     "text": [
      "sub-215_task-rest_run-02_bold.json\n"
     ]
    },
    {
     "data": {
      "text/plain": [
       "'SHAMBOTH'"
      ]
     },
     "metadata": {},
     "output_type": "display_data"
    },
    {
     "name": "stdout",
     "output_type": "stream",
     "text": [
      "sub-215_task-rest_run-04_bold.json\n"
     ]
    },
    {
     "data": {
      "text/plain": [
       "'RPTJ'"
      ]
     },
     "metadata": {},
     "output_type": "display_data"
    },
    {
     "name": "stdout",
     "output_type": "stream",
     "text": [
      "sub-215_task-rest_run-03_bold.json\n"
     ]
    },
    {
     "data": {
      "text/plain": [
       "'BOTH'"
      ]
     },
     "metadata": {},
     "output_type": "display_data"
    },
    {
     "name": "stdout",
     "output_type": "stream",
     "text": [
      "sub-227_task-rest_run-02_bold.json\n"
     ]
    },
    {
     "data": {
      "text/plain": [
       "'SHAMBOTH'"
      ]
     },
     "metadata": {},
     "output_type": "display_data"
    },
    {
     "name": "stdout",
     "output_type": "stream",
     "text": [
      "sub-227_task-rest_run-03_bold.json\n"
     ]
    },
    {
     "data": {
      "text/plain": [
       "'BOTH'"
      ]
     },
     "metadata": {},
     "output_type": "display_data"
    },
    {
     "name": "stdout",
     "output_type": "stream",
     "text": [
      "sub-227_task-rest_run-01_bold.json\n"
     ]
    },
    {
     "data": {
      "text/plain": [
       "'VLPFC'"
      ]
     },
     "metadata": {},
     "output_type": "display_data"
    },
    {
     "name": "stdout",
     "output_type": "stream",
     "text": [
      "sub-227_task-rest_run-04_bold.json\n"
     ]
    },
    {
     "data": {
      "text/plain": [
       "'RPTJ'"
      ]
     },
     "metadata": {},
     "output_type": "display_data"
    },
    {
     "name": "stdout",
     "output_type": "stream",
     "text": [
      "sub-231_task-rest_run-02_bold.json\n"
     ]
    },
    {
     "data": {
      "text/plain": [
       "'BOTH'"
      ]
     },
     "metadata": {},
     "output_type": "display_data"
    },
    {
     "name": "stdout",
     "output_type": "stream",
     "text": [
      "sub-231_task-rest_run-04_bold.json\n"
     ]
    },
    {
     "data": {
      "text/plain": [
       "'VLPFC'"
      ]
     },
     "metadata": {},
     "output_type": "display_data"
    },
    {
     "name": "stdout",
     "output_type": "stream",
     "text": [
      "sub-231_task-rest_run-03_bold.json\n"
     ]
    },
    {
     "data": {
      "text/plain": [
       "'SHAMBOTH'"
      ]
     },
     "metadata": {},
     "output_type": "display_data"
    },
    {
     "name": "stdout",
     "output_type": "stream",
     "text": [
      "sub-231_task-rest_run-01_bold.json\n"
     ]
    },
    {
     "data": {
      "text/plain": [
       "'RPTJ'"
      ]
     },
     "metadata": {},
     "output_type": "display_data"
    },
    {
     "name": "stdout",
     "output_type": "stream",
     "text": [
      "sub-210_task-rest_run-02_bold.json\n"
     ]
    },
    {
     "data": {
      "text/plain": [
       "'BOTH'"
      ]
     },
     "metadata": {},
     "output_type": "display_data"
    },
    {
     "name": "stdout",
     "output_type": "stream",
     "text": [
      "sub-210_task-rest_run-04_bold.json\n"
     ]
    },
    {
     "data": {
      "text/plain": [
       "'VLPFC'"
      ]
     },
     "metadata": {},
     "output_type": "display_data"
    },
    {
     "name": "stdout",
     "output_type": "stream",
     "text": [
      "sub-210_task-rest_run-03_bold.json\n"
     ]
    },
    {
     "data": {
      "text/plain": [
       "'SHAMBOTH'"
      ]
     },
     "metadata": {},
     "output_type": "display_data"
    },
    {
     "name": "stdout",
     "output_type": "stream",
     "text": [
      "sub-210_task-rest_run-01_bold.json\n"
     ]
    },
    {
     "data": {
      "text/plain": [
       "'RPTJ'"
      ]
     },
     "metadata": {},
     "output_type": "display_data"
    },
    {
     "name": "stdout",
     "output_type": "stream",
     "text": [
      "sub-224_task-rest_run-01_bold.json\n"
     ]
    },
    {
     "data": {
      "text/plain": [
       "'VLPFC'"
      ]
     },
     "metadata": {},
     "output_type": "display_data"
    },
    {
     "name": "stdout",
     "output_type": "stream",
     "text": [
      "sub-222_task-rest_run-02_bold.json\n"
     ]
    },
    {
     "data": {
      "text/plain": [
       "'BOTH'"
      ]
     },
     "metadata": {},
     "output_type": "display_data"
    },
    {
     "name": "stdout",
     "output_type": "stream",
     "text": [
      "sub-222_task-rest_run-03_bold.json\n"
     ]
    },
    {
     "data": {
      "text/plain": [
       "'SHAMBOTH'"
      ]
     },
     "metadata": {},
     "output_type": "display_data"
    },
    {
     "name": "stdout",
     "output_type": "stream",
     "text": [
      "sub-222_task-rest_run-01_bold.json\n"
     ]
    },
    {
     "data": {
      "text/plain": [
       "'RPTJ'"
      ]
     },
     "metadata": {},
     "output_type": "display_data"
    },
    {
     "name": "stdout",
     "output_type": "stream",
     "text": [
      "sub-222_task-rest_run-04_bold.json\n"
     ]
    },
    {
     "data": {
      "text/plain": [
       "'VLPFC'"
      ]
     },
     "metadata": {},
     "output_type": "display_data"
    },
    {
     "name": "stdout",
     "output_type": "stream",
     "text": [
      "sub-220_task-rest_run-03_bold.json\n"
     ]
    },
    {
     "data": {
      "text/plain": [
       "'BOTH'"
      ]
     },
     "metadata": {},
     "output_type": "display_data"
    },
    {
     "name": "stdout",
     "output_type": "stream",
     "text": [
      "sub-220_task-rest_run-01_bold.json\n"
     ]
    },
    {
     "data": {
      "text/plain": [
       "'VLPFC'"
      ]
     },
     "metadata": {},
     "output_type": "display_data"
    },
    {
     "name": "stdout",
     "output_type": "stream",
     "text": [
      "sub-220_task-rest_run-04_bold.json\n"
     ]
    },
    {
     "data": {
      "text/plain": [
       "'RPTJ'"
      ]
     },
     "metadata": {},
     "output_type": "display_data"
    },
    {
     "name": "stdout",
     "output_type": "stream",
     "text": [
      "sub-220_task-rest_run-02_bold.json\n"
     ]
    },
    {
     "data": {
      "text/plain": [
       "'SHAMBOTH'"
      ]
     },
     "metadata": {},
     "output_type": "display_data"
    },
    {
     "name": "stdout",
     "output_type": "stream",
     "text": [
      "sub-189_task-rest_run-03_bold.json\n"
     ]
    },
    {
     "data": {
      "text/plain": [
       "'BOTH'"
      ]
     },
     "metadata": {},
     "output_type": "display_data"
    },
    {
     "name": "stdout",
     "output_type": "stream",
     "text": [
      "sub-189_task-rest_run-02_bold.json\n"
     ]
    },
    {
     "data": {
      "text/plain": [
       "'SHAMBOTH'"
      ]
     },
     "metadata": {},
     "output_type": "display_data"
    },
    {
     "name": "stdout",
     "output_type": "stream",
     "text": [
      "sub-189_task-rest_run-01_bold.json\n"
     ]
    },
    {
     "data": {
      "text/plain": [
       "'VLPFC'"
      ]
     },
     "metadata": {},
     "output_type": "display_data"
    },
    {
     "name": "stdout",
     "output_type": "stream",
     "text": [
      "sub-189_task-rest_run-04_bold.json\n"
     ]
    },
    {
     "data": {
      "text/plain": [
       "'RPTJ'"
      ]
     },
     "metadata": {},
     "output_type": "display_data"
    },
    {
     "name": "stdout",
     "output_type": "stream",
     "text": [
      "sub-223_task-rest_run-04_bold.json\n"
     ]
    },
    {
     "data": {
      "text/plain": [
       "'BOTH'"
      ]
     },
     "metadata": {},
     "output_type": "display_data"
    },
    {
     "name": "stdout",
     "output_type": "stream",
     "text": [
      "sub-223_task-rest_run-02_bold.json\n"
     ]
    },
    {
     "data": {
      "text/plain": [
       "'RPTJ'"
      ]
     },
     "metadata": {},
     "output_type": "display_data"
    },
    {
     "name": "stdout",
     "output_type": "stream",
     "text": [
      "sub-223_task-rest_run-03_bold.json\n"
     ]
    },
    {
     "data": {
      "text/plain": [
       "'VLPFC'"
      ]
     },
     "metadata": {},
     "output_type": "display_data"
    },
    {
     "name": "stdout",
     "output_type": "stream",
     "text": [
      "sub-223_task-rest_run-01_bold.json\n"
     ]
    },
    {
     "data": {
      "text/plain": [
       "'SHAMBOTH'"
      ]
     },
     "metadata": {},
     "output_type": "display_data"
    },
    {
     "name": "stdout",
     "output_type": "stream",
     "text": [
      "sub-209_task-rest_run-01_bold.json\n"
     ]
    },
    {
     "data": {
      "text/plain": [
       "'SHAMBOTH'"
      ]
     },
     "metadata": {},
     "output_type": "display_data"
    },
    {
     "name": "stdout",
     "output_type": "stream",
     "text": [
      "sub-209_task-rest_run-03_bold.json\n"
     ]
    },
    {
     "data": {
      "text/plain": [
       "'VLPFC'"
      ]
     },
     "metadata": {},
     "output_type": "display_data"
    },
    {
     "name": "stdout",
     "output_type": "stream",
     "text": [
      "sub-209_task-rest_run-02_bold.json\n"
     ]
    },
    {
     "data": {
      "text/plain": [
       "'RPTJ'"
      ]
     },
     "metadata": {},
     "output_type": "display_data"
    },
    {
     "name": "stdout",
     "output_type": "stream",
     "text": [
      "sub-209_task-rest_run-04_bold.json\n"
     ]
    },
    {
     "data": {
      "text/plain": [
       "'BOTH'"
      ]
     },
     "metadata": {},
     "output_type": "display_data"
    },
    {
     "name": "stdout",
     "output_type": "stream",
     "text": [
      "sub-234_task-rest_run-04_bold.json\n"
     ]
    },
    {
     "data": {
      "text/plain": [
       "'SHAMBOTH'"
      ]
     },
     "metadata": {},
     "output_type": "display_data"
    },
    {
     "name": "stdout",
     "output_type": "stream",
     "text": [
      "sub-234_task-rest_run-02_bold.json\n"
     ]
    },
    {
     "data": {
      "text/plain": [
       "'VLPFC'"
      ]
     },
     "metadata": {},
     "output_type": "display_data"
    },
    {
     "name": "stdout",
     "output_type": "stream",
     "text": [
      "sub-234_task-rest_run-01_bold.json\n"
     ]
    },
    {
     "data": {
      "text/plain": [
       "'BOTH'"
      ]
     },
     "metadata": {},
     "output_type": "display_data"
    },
    {
     "name": "stdout",
     "output_type": "stream",
     "text": [
      "sub-234_task-rest_run-03_bold.json\n"
     ]
    },
    {
     "data": {
      "text/plain": [
       "'RPTJ'"
      ]
     },
     "metadata": {},
     "output_type": "display_data"
    },
    {
     "name": "stdout",
     "output_type": "stream",
     "text": [
      "sub-214_task-rest_run-03_bold.json\n"
     ]
    },
    {
     "data": {
      "text/plain": [
       "'RPTJ'"
      ]
     },
     "metadata": {},
     "output_type": "display_data"
    },
    {
     "name": "stdout",
     "output_type": "stream",
     "text": [
      "sub-214_task-rest_run-02_bold.json\n"
     ]
    },
    {
     "data": {
      "text/plain": [
       "'VLPFC'"
      ]
     },
     "metadata": {},
     "output_type": "display_data"
    },
    {
     "name": "stdout",
     "output_type": "stream",
     "text": [
      "sub-214_task-rest_run-04_bold.json\n"
     ]
    },
    {
     "data": {
      "text/plain": [
       "'SHAMBOTH'"
      ]
     },
     "metadata": {},
     "output_type": "display_data"
    },
    {
     "name": "stdout",
     "output_type": "stream",
     "text": [
      "sub-214_task-rest_run-01_bold.json\n"
     ]
    },
    {
     "data": {
      "text/plain": [
       "'BOTH'"
      ]
     },
     "metadata": {},
     "output_type": "display_data"
    },
    {
     "name": "stdout",
     "output_type": "stream",
     "text": [
      "sub-207_task-rest_run-02_bold.json\n"
     ]
    },
    {
     "data": {
      "text/plain": [
       "'SHAMBOTH'"
      ]
     },
     "metadata": {},
     "output_type": "display_data"
    },
    {
     "name": "stdout",
     "output_type": "stream",
     "text": [
      "sub-207_task-rest_run-04_bold.json\n"
     ]
    },
    {
     "data": {
      "text/plain": [
       "'RPTJ'"
      ]
     },
     "metadata": {},
     "output_type": "display_data"
    },
    {
     "name": "stdout",
     "output_type": "stream",
     "text": [
      "sub-207_task-rest_run-01_bold.json\n"
     ]
    },
    {
     "data": {
      "text/plain": [
       "'VLPFC'"
      ]
     },
     "metadata": {},
     "output_type": "display_data"
    },
    {
     "name": "stdout",
     "output_type": "stream",
     "text": [
      "sub-207_task-rest_run-03_bold.json\n"
     ]
    },
    {
     "data": {
      "text/plain": [
       "'BOTH'"
      ]
     },
     "metadata": {},
     "output_type": "display_data"
    },
    {
     "name": "stdout",
     "output_type": "stream",
     "text": [
      "sub-203_task-rest_run-04_bold.json\n"
     ]
    },
    {
     "data": {
      "text/plain": [
       "'VLPFC'"
      ]
     },
     "metadata": {},
     "output_type": "display_data"
    },
    {
     "name": "stdout",
     "output_type": "stream",
     "text": [
      "sub-203_task-rest_run-03_bold.json\n"
     ]
    },
    {
     "data": {
      "text/plain": [
       "'SHAMBOTH'"
      ]
     },
     "metadata": {},
     "output_type": "display_data"
    },
    {
     "name": "stdout",
     "output_type": "stream",
     "text": [
      "sub-203_task-rest_run-01_bold.json\n"
     ]
    },
    {
     "data": {
      "text/plain": [
       "'RPTJ'"
      ]
     },
     "metadata": {},
     "output_type": "display_data"
    },
    {
     "name": "stdout",
     "output_type": "stream",
     "text": [
      "sub-203_task-rest_run-02_bold.json\n"
     ]
    },
    {
     "data": {
      "text/plain": [
       "'BOTH'"
      ]
     },
     "metadata": {},
     "output_type": "display_data"
    },
    {
     "name": "stdout",
     "output_type": "stream",
     "text": [
      "sub-219_task-rest_run-01_bold.json\n"
     ]
    },
    {
     "data": {
      "text/plain": [
       "'BOTH'"
      ]
     },
     "metadata": {},
     "output_type": "display_data"
    },
    {
     "name": "stdout",
     "output_type": "stream",
     "text": [
      "sub-219_task-rest_run-03_bold.json\n"
     ]
    },
    {
     "data": {
      "text/plain": [
       "'RPTJ'"
      ]
     },
     "metadata": {},
     "output_type": "display_data"
    },
    {
     "name": "stdout",
     "output_type": "stream",
     "text": [
      "sub-219_task-rest_run-02_bold.json\n"
     ]
    },
    {
     "data": {
      "text/plain": [
       "'VLPFC'"
      ]
     },
     "metadata": {},
     "output_type": "display_data"
    },
    {
     "name": "stdout",
     "output_type": "stream",
     "text": [
      "sub-219_task-rest_run-04_bold.json\n"
     ]
    },
    {
     "data": {
      "text/plain": [
       "'SHAMBOTH'"
      ]
     },
     "metadata": {},
     "output_type": "display_data"
    },
    {
     "name": "stdout",
     "output_type": "stream",
     "text": [
      "sub-217_task-rest_run-04_bold.json\n"
     ]
    },
    {
     "data": {
      "text/plain": [
       "'VLPFC'"
      ]
     },
     "metadata": {},
     "output_type": "display_data"
    },
    {
     "name": "stdout",
     "output_type": "stream",
     "text": [
      "sub-217_task-rest_run-02_bold.json\n"
     ]
    },
    {
     "data": {
      "text/plain": [
       "'BOTH'"
      ]
     },
     "metadata": {},
     "output_type": "display_data"
    },
    {
     "name": "stdout",
     "output_type": "stream",
     "text": [
      "sub-217_task-rest_run-01_bold.json\n"
     ]
    },
    {
     "data": {
      "text/plain": [
       "'RPTJ'"
      ]
     },
     "metadata": {},
     "output_type": "display_data"
    },
    {
     "name": "stdout",
     "output_type": "stream",
     "text": [
      "sub-217_task-rest_run-03_bold.json\n"
     ]
    },
    {
     "data": {
      "text/plain": [
       "'SHAMBOTH'"
      ]
     },
     "metadata": {},
     "output_type": "display_data"
    },
    {
     "name": "stdout",
     "output_type": "stream",
     "text": [
      "sub-211_task-rest_run-03_bold.json\n"
     ]
    },
    {
     "data": {
      "text/plain": [
       "'RPTJ'"
      ]
     },
     "metadata": {},
     "output_type": "display_data"
    },
    {
     "name": "stdout",
     "output_type": "stream",
     "text": [
      "sub-211_task-rest_run-04_bold.json\n"
     ]
    },
    {
     "data": {
      "text/plain": [
       "'SHAMBOTH'"
      ]
     },
     "metadata": {},
     "output_type": "display_data"
    },
    {
     "name": "stdout",
     "output_type": "stream",
     "text": [
      "sub-211_task-rest_run-01_bold.json\n"
     ]
    },
    {
     "data": {
      "text/plain": [
       "'BOTH'"
      ]
     },
     "metadata": {},
     "output_type": "display_data"
    },
    {
     "name": "stdout",
     "output_type": "stream",
     "text": [
      "sub-211_task-rest_run-02_bold.json\n"
     ]
    },
    {
     "data": {
      "text/plain": [
       "'VLPFC'"
      ]
     },
     "metadata": {},
     "output_type": "display_data"
    },
    {
     "name": "stdout",
     "output_type": "stream",
     "text": [
      "sub-225_task-rest_run-01_bold.json\n"
     ]
    },
    {
     "data": {
      "text/plain": [
       "'BOTH'"
      ]
     },
     "metadata": {},
     "output_type": "display_data"
    },
    {
     "name": "stdout",
     "output_type": "stream",
     "text": [
      "sub-225_task-rest_run-04_bold.json\n"
     ]
    },
    {
     "data": {
      "text/plain": [
       "'SHAMBOTH'"
      ]
     },
     "metadata": {},
     "output_type": "display_data"
    },
    {
     "name": "stdout",
     "output_type": "stream",
     "text": [
      "sub-225_task-rest_run-03_bold.json\n"
     ]
    },
    {
     "data": {
      "text/plain": [
       "'RPTJ'"
      ]
     },
     "metadata": {},
     "output_type": "display_data"
    },
    {
     "name": "stdout",
     "output_type": "stream",
     "text": [
      "sub-225_task-rest_run-02_bold.json\n"
     ]
    },
    {
     "data": {
      "text/plain": [
       "'VLPFC'"
      ]
     },
     "metadata": {},
     "output_type": "display_data"
    },
    {
     "name": "stdout",
     "output_type": "stream",
     "text": [
      "sub-208_task-rest_run-04_bold.json\n"
     ]
    },
    {
     "data": {
      "text/plain": [
       "'SHAMBOTH'"
      ]
     },
     "metadata": {},
     "output_type": "display_data"
    },
    {
     "name": "stdout",
     "output_type": "stream",
     "text": [
      "sub-208_task-rest_run-01_bold.json\n"
     ]
    },
    {
     "data": {
      "text/plain": [
       "'BOTH'"
      ]
     },
     "metadata": {},
     "output_type": "display_data"
    },
    {
     "name": "stdout",
     "output_type": "stream",
     "text": [
      "sub-208_task-rest_run-02_bold.json\n"
     ]
    },
    {
     "data": {
      "text/plain": [
       "'VLPFC'"
      ]
     },
     "metadata": {},
     "output_type": "display_data"
    },
    {
     "name": "stdout",
     "output_type": "stream",
     "text": [
      "sub-208_task-rest_run-03_bold.json\n"
     ]
    },
    {
     "data": {
      "text/plain": [
       "'RPTJ'"
      ]
     },
     "metadata": {},
     "output_type": "display_data"
    },
    {
     "name": "stdout",
     "output_type": "stream",
     "text": [
      "sub-230_task-rest_run-02_bold.json\n"
     ]
    },
    {
     "data": {
      "text/plain": [
       "'RPTJ'"
      ]
     },
     "metadata": {},
     "output_type": "display_data"
    },
    {
     "name": "stdout",
     "output_type": "stream",
     "text": [
      "sub-230_task-rest_run-04_bold.json\n"
     ]
    },
    {
     "data": {
      "text/plain": [
       "'BOTH'"
      ]
     },
     "metadata": {},
     "output_type": "display_data"
    },
    {
     "name": "stdout",
     "output_type": "stream",
     "text": [
      "sub-230_task-rest_run-01_bold.json\n"
     ]
    },
    {
     "data": {
      "text/plain": [
       "'SHAMBOTH'"
      ]
     },
     "metadata": {},
     "output_type": "display_data"
    },
    {
     "name": "stdout",
     "output_type": "stream",
     "text": [
      "sub-230_task-rest_run-03_bold.json\n"
     ]
    },
    {
     "data": {
      "text/plain": [
       "'VLPFC'"
      ]
     },
     "metadata": {},
     "output_type": "display_data"
    }
   ],
   "source": [
    "goods=pd.DataFrame(columns=['sub','run','task'])\n",
    "\n",
    "for file in fnames:\n",
    "    print file\n",
    "    sub=re.search('sub-(.*)_task-', file).group(1)\n",
    "    run=re.search('run-(.*)_bold', file).group(1)\n",
    "    task=pd.read_csv('../../sourcedata/sub-%s/sub-%s_task-rest_run-%s_events.tsv'%(sub,sub,run),delimiter='\\t')\n",
    "    task=task['trial_type'][0]\n",
    "    display(task)\n",
    "    #scriptname=\"preproc_sm_demean.sh\"\n",
    "    scriptname=\"zscore.sh\"\n",
    "    command=\"bash %s %s %s &\"%(scriptname, sub, run)\n",
    "    NCORES=25\n",
    "    !while [ $(ps -ef | grep -v grep | grep $scriptname | wc -l) -ge $NCORES ] ; do sleep 5s; done\n",
    "    subprocess.call(command, shell=True)\n",
    "    !sleep 5s\n",
    "    lent=len(goods)\n",
    "    goods.loc[lent]=[sub,run,task]\n"
   ]
  },
  {
   "cell_type": "code",
   "execution_count": 5,
   "metadata": {},
   "outputs": [
    {
     "data": {
      "text/html": [
       "<div>\n",
       "<style scoped>\n",
       "    .dataframe tbody tr th:only-of-type {\n",
       "        vertical-align: middle;\n",
       "    }\n",
       "\n",
       "    .dataframe tbody tr th {\n",
       "        vertical-align: top;\n",
       "    }\n",
       "\n",
       "    .dataframe thead th {\n",
       "        text-align: right;\n",
       "    }\n",
       "</style>\n",
       "<table border=\"1\" class=\"dataframe\">\n",
       "  <thead>\n",
       "    <tr style=\"text-align: right;\">\n",
       "      <th></th>\n",
       "      <th>sub</th>\n",
       "      <th>run</th>\n",
       "      <th>task</th>\n",
       "    </tr>\n",
       "  </thead>\n",
       "  <tbody>\n",
       "    <tr>\n",
       "      <th>0</th>\n",
       "      <td>212</td>\n",
       "      <td>02</td>\n",
       "      <td>RPTJ</td>\n",
       "    </tr>\n",
       "    <tr>\n",
       "      <th>1</th>\n",
       "      <td>212</td>\n",
       "      <td>01</td>\n",
       "      <td>SHAMBOTH</td>\n",
       "    </tr>\n",
       "    <tr>\n",
       "      <th>2</th>\n",
       "      <td>218</td>\n",
       "      <td>03</td>\n",
       "      <td>VLPFC</td>\n",
       "    </tr>\n",
       "    <tr>\n",
       "      <th>3</th>\n",
       "      <td>218</td>\n",
       "      <td>01</td>\n",
       "      <td>SHAMBOTH</td>\n",
       "    </tr>\n",
       "    <tr>\n",
       "      <th>4</th>\n",
       "      <td>218</td>\n",
       "      <td>04</td>\n",
       "      <td>BOTH</td>\n",
       "    </tr>\n",
       "    <tr>\n",
       "      <th>5</th>\n",
       "      <td>218</td>\n",
       "      <td>02</td>\n",
       "      <td>RPTJ</td>\n",
       "    </tr>\n",
       "    <tr>\n",
       "      <th>6</th>\n",
       "      <td>228</td>\n",
       "      <td>01</td>\n",
       "      <td>SHAMBOTH</td>\n",
       "    </tr>\n",
       "    <tr>\n",
       "      <th>7</th>\n",
       "      <td>228</td>\n",
       "      <td>04</td>\n",
       "      <td>BOTH</td>\n",
       "    </tr>\n",
       "    <tr>\n",
       "      <th>8</th>\n",
       "      <td>228</td>\n",
       "      <td>03</td>\n",
       "      <td>VLPFC</td>\n",
       "    </tr>\n",
       "    <tr>\n",
       "      <th>9</th>\n",
       "      <td>228</td>\n",
       "      <td>02</td>\n",
       "      <td>RPTJ</td>\n",
       "    </tr>\n",
       "    <tr>\n",
       "      <th>10</th>\n",
       "      <td>221</td>\n",
       "      <td>04</td>\n",
       "      <td>RPTJ</td>\n",
       "    </tr>\n",
       "    <tr>\n",
       "      <th>11</th>\n",
       "      <td>221</td>\n",
       "      <td>02</td>\n",
       "      <td>SHAMBOTH</td>\n",
       "    </tr>\n",
       "    <tr>\n",
       "      <th>12</th>\n",
       "      <td>221</td>\n",
       "      <td>01</td>\n",
       "      <td>VLPFC</td>\n",
       "    </tr>\n",
       "    <tr>\n",
       "      <th>13</th>\n",
       "      <td>221</td>\n",
       "      <td>03</td>\n",
       "      <td>BOTH</td>\n",
       "    </tr>\n",
       "    <tr>\n",
       "      <th>14</th>\n",
       "      <td>213</td>\n",
       "      <td>02</td>\n",
       "      <td>RPTJ</td>\n",
       "    </tr>\n",
       "    <tr>\n",
       "      <th>15</th>\n",
       "      <td>213</td>\n",
       "      <td>01</td>\n",
       "      <td>SHAMBOTH</td>\n",
       "    </tr>\n",
       "    <tr>\n",
       "      <th>16</th>\n",
       "      <td>213</td>\n",
       "      <td>04</td>\n",
       "      <td>BOTH</td>\n",
       "    </tr>\n",
       "    <tr>\n",
       "      <th>17</th>\n",
       "      <td>213</td>\n",
       "      <td>03</td>\n",
       "      <td>VLPFC</td>\n",
       "    </tr>\n",
       "    <tr>\n",
       "      <th>18</th>\n",
       "      <td>215</td>\n",
       "      <td>01</td>\n",
       "      <td>VLPFC</td>\n",
       "    </tr>\n",
       "    <tr>\n",
       "      <th>19</th>\n",
       "      <td>215</td>\n",
       "      <td>02</td>\n",
       "      <td>SHAMBOTH</td>\n",
       "    </tr>\n",
       "    <tr>\n",
       "      <th>20</th>\n",
       "      <td>215</td>\n",
       "      <td>04</td>\n",
       "      <td>RPTJ</td>\n",
       "    </tr>\n",
       "    <tr>\n",
       "      <th>21</th>\n",
       "      <td>215</td>\n",
       "      <td>03</td>\n",
       "      <td>BOTH</td>\n",
       "    </tr>\n",
       "    <tr>\n",
       "      <th>22</th>\n",
       "      <td>227</td>\n",
       "      <td>02</td>\n",
       "      <td>SHAMBOTH</td>\n",
       "    </tr>\n",
       "    <tr>\n",
       "      <th>23</th>\n",
       "      <td>227</td>\n",
       "      <td>03</td>\n",
       "      <td>BOTH</td>\n",
       "    </tr>\n",
       "    <tr>\n",
       "      <th>24</th>\n",
       "      <td>227</td>\n",
       "      <td>01</td>\n",
       "      <td>VLPFC</td>\n",
       "    </tr>\n",
       "    <tr>\n",
       "      <th>25</th>\n",
       "      <td>227</td>\n",
       "      <td>04</td>\n",
       "      <td>RPTJ</td>\n",
       "    </tr>\n",
       "    <tr>\n",
       "      <th>26</th>\n",
       "      <td>231</td>\n",
       "      <td>02</td>\n",
       "      <td>BOTH</td>\n",
       "    </tr>\n",
       "    <tr>\n",
       "      <th>27</th>\n",
       "      <td>231</td>\n",
       "      <td>04</td>\n",
       "      <td>VLPFC</td>\n",
       "    </tr>\n",
       "    <tr>\n",
       "      <th>28</th>\n",
       "      <td>231</td>\n",
       "      <td>03</td>\n",
       "      <td>SHAMBOTH</td>\n",
       "    </tr>\n",
       "    <tr>\n",
       "      <th>29</th>\n",
       "      <td>231</td>\n",
       "      <td>01</td>\n",
       "      <td>RPTJ</td>\n",
       "    </tr>\n",
       "    <tr>\n",
       "      <th>...</th>\n",
       "      <td>...</td>\n",
       "      <td>...</td>\n",
       "      <td>...</td>\n",
       "    </tr>\n",
       "    <tr>\n",
       "      <th>66</th>\n",
       "      <td>207</td>\n",
       "      <td>03</td>\n",
       "      <td>BOTH</td>\n",
       "    </tr>\n",
       "    <tr>\n",
       "      <th>67</th>\n",
       "      <td>203</td>\n",
       "      <td>04</td>\n",
       "      <td>VLPFC</td>\n",
       "    </tr>\n",
       "    <tr>\n",
       "      <th>68</th>\n",
       "      <td>203</td>\n",
       "      <td>03</td>\n",
       "      <td>SHAMBOTH</td>\n",
       "    </tr>\n",
       "    <tr>\n",
       "      <th>69</th>\n",
       "      <td>203</td>\n",
       "      <td>01</td>\n",
       "      <td>RPTJ</td>\n",
       "    </tr>\n",
       "    <tr>\n",
       "      <th>70</th>\n",
       "      <td>203</td>\n",
       "      <td>02</td>\n",
       "      <td>BOTH</td>\n",
       "    </tr>\n",
       "    <tr>\n",
       "      <th>71</th>\n",
       "      <td>219</td>\n",
       "      <td>01</td>\n",
       "      <td>BOTH</td>\n",
       "    </tr>\n",
       "    <tr>\n",
       "      <th>72</th>\n",
       "      <td>219</td>\n",
       "      <td>03</td>\n",
       "      <td>RPTJ</td>\n",
       "    </tr>\n",
       "    <tr>\n",
       "      <th>73</th>\n",
       "      <td>219</td>\n",
       "      <td>02</td>\n",
       "      <td>VLPFC</td>\n",
       "    </tr>\n",
       "    <tr>\n",
       "      <th>74</th>\n",
       "      <td>219</td>\n",
       "      <td>04</td>\n",
       "      <td>SHAMBOTH</td>\n",
       "    </tr>\n",
       "    <tr>\n",
       "      <th>75</th>\n",
       "      <td>217</td>\n",
       "      <td>04</td>\n",
       "      <td>VLPFC</td>\n",
       "    </tr>\n",
       "    <tr>\n",
       "      <th>76</th>\n",
       "      <td>217</td>\n",
       "      <td>02</td>\n",
       "      <td>BOTH</td>\n",
       "    </tr>\n",
       "    <tr>\n",
       "      <th>77</th>\n",
       "      <td>217</td>\n",
       "      <td>01</td>\n",
       "      <td>RPTJ</td>\n",
       "    </tr>\n",
       "    <tr>\n",
       "      <th>78</th>\n",
       "      <td>217</td>\n",
       "      <td>03</td>\n",
       "      <td>SHAMBOTH</td>\n",
       "    </tr>\n",
       "    <tr>\n",
       "      <th>79</th>\n",
       "      <td>211</td>\n",
       "      <td>03</td>\n",
       "      <td>RPTJ</td>\n",
       "    </tr>\n",
       "    <tr>\n",
       "      <th>80</th>\n",
       "      <td>211</td>\n",
       "      <td>04</td>\n",
       "      <td>SHAMBOTH</td>\n",
       "    </tr>\n",
       "    <tr>\n",
       "      <th>81</th>\n",
       "      <td>211</td>\n",
       "      <td>01</td>\n",
       "      <td>BOTH</td>\n",
       "    </tr>\n",
       "    <tr>\n",
       "      <th>82</th>\n",
       "      <td>211</td>\n",
       "      <td>02</td>\n",
       "      <td>VLPFC</td>\n",
       "    </tr>\n",
       "    <tr>\n",
       "      <th>83</th>\n",
       "      <td>225</td>\n",
       "      <td>01</td>\n",
       "      <td>BOTH</td>\n",
       "    </tr>\n",
       "    <tr>\n",
       "      <th>84</th>\n",
       "      <td>225</td>\n",
       "      <td>04</td>\n",
       "      <td>SHAMBOTH</td>\n",
       "    </tr>\n",
       "    <tr>\n",
       "      <th>85</th>\n",
       "      <td>225</td>\n",
       "      <td>03</td>\n",
       "      <td>RPTJ</td>\n",
       "    </tr>\n",
       "    <tr>\n",
       "      <th>86</th>\n",
       "      <td>225</td>\n",
       "      <td>02</td>\n",
       "      <td>VLPFC</td>\n",
       "    </tr>\n",
       "    <tr>\n",
       "      <th>87</th>\n",
       "      <td>208</td>\n",
       "      <td>04</td>\n",
       "      <td>SHAMBOTH</td>\n",
       "    </tr>\n",
       "    <tr>\n",
       "      <th>88</th>\n",
       "      <td>208</td>\n",
       "      <td>01</td>\n",
       "      <td>BOTH</td>\n",
       "    </tr>\n",
       "    <tr>\n",
       "      <th>89</th>\n",
       "      <td>208</td>\n",
       "      <td>02</td>\n",
       "      <td>VLPFC</td>\n",
       "    </tr>\n",
       "    <tr>\n",
       "      <th>90</th>\n",
       "      <td>208</td>\n",
       "      <td>03</td>\n",
       "      <td>RPTJ</td>\n",
       "    </tr>\n",
       "    <tr>\n",
       "      <th>91</th>\n",
       "      <td>230</td>\n",
       "      <td>02</td>\n",
       "      <td>RPTJ</td>\n",
       "    </tr>\n",
       "    <tr>\n",
       "      <th>92</th>\n",
       "      <td>230</td>\n",
       "      <td>04</td>\n",
       "      <td>BOTH</td>\n",
       "    </tr>\n",
       "    <tr>\n",
       "      <th>93</th>\n",
       "      <td>230</td>\n",
       "      <td>01</td>\n",
       "      <td>SHAMBOTH</td>\n",
       "    </tr>\n",
       "    <tr>\n",
       "      <th>94</th>\n",
       "      <td>230</td>\n",
       "      <td>03</td>\n",
       "      <td>VLPFC</td>\n",
       "    </tr>\n",
       "    <tr>\n",
       "      <th>95</th>\n",
       "      <td>230</td>\n",
       "      <td>03</td>\n",
       "      <td>VLPFC</td>\n",
       "    </tr>\n",
       "  </tbody>\n",
       "</table>\n",
       "<p>96 rows × 3 columns</p>\n",
       "</div>"
      ],
      "text/plain": [
       "    sub run      task\n",
       "0   212  02      RPTJ\n",
       "1   212  01  SHAMBOTH\n",
       "2   218  03     VLPFC\n",
       "3   218  01  SHAMBOTH\n",
       "4   218  04      BOTH\n",
       "5   218  02      RPTJ\n",
       "6   228  01  SHAMBOTH\n",
       "7   228  04      BOTH\n",
       "8   228  03     VLPFC\n",
       "9   228  02      RPTJ\n",
       "10  221  04      RPTJ\n",
       "11  221  02  SHAMBOTH\n",
       "12  221  01     VLPFC\n",
       "13  221  03      BOTH\n",
       "14  213  02      RPTJ\n",
       "15  213  01  SHAMBOTH\n",
       "16  213  04      BOTH\n",
       "17  213  03     VLPFC\n",
       "18  215  01     VLPFC\n",
       "19  215  02  SHAMBOTH\n",
       "20  215  04      RPTJ\n",
       "21  215  03      BOTH\n",
       "22  227  02  SHAMBOTH\n",
       "23  227  03      BOTH\n",
       "24  227  01     VLPFC\n",
       "25  227  04      RPTJ\n",
       "26  231  02      BOTH\n",
       "27  231  04     VLPFC\n",
       "28  231  03  SHAMBOTH\n",
       "29  231  01      RPTJ\n",
       "..  ...  ..       ...\n",
       "66  207  03      BOTH\n",
       "67  203  04     VLPFC\n",
       "68  203  03  SHAMBOTH\n",
       "69  203  01      RPTJ\n",
       "70  203  02      BOTH\n",
       "71  219  01      BOTH\n",
       "72  219  03      RPTJ\n",
       "73  219  02     VLPFC\n",
       "74  219  04  SHAMBOTH\n",
       "75  217  04     VLPFC\n",
       "76  217  02      BOTH\n",
       "77  217  01      RPTJ\n",
       "78  217  03  SHAMBOTH\n",
       "79  211  03      RPTJ\n",
       "80  211  04  SHAMBOTH\n",
       "81  211  01      BOTH\n",
       "82  211  02     VLPFC\n",
       "83  225  01      BOTH\n",
       "84  225  04  SHAMBOTH\n",
       "85  225  03      RPTJ\n",
       "86  225  02     VLPFC\n",
       "87  208  04  SHAMBOTH\n",
       "88  208  01      BOTH\n",
       "89  208  02     VLPFC\n",
       "90  208  03      RPTJ\n",
       "91  230  02      RPTJ\n",
       "92  230  04      BOTH\n",
       "93  230  01  SHAMBOTH\n",
       "94  230  03     VLPFC\n",
       "95  230  03     VLPFC\n",
       "\n",
       "[96 rows x 3 columns]"
      ]
     },
     "execution_count": 5,
     "metadata": {},
     "output_type": "execute_result"
    }
   ],
   "source": [
    "lent=len(goods)\n",
    "goods.loc[lent]=[sub,run,task]\n",
    "goods"
   ]
  }
 ],
 "metadata": {
  "kernelspec": {
   "display_name": "Python 2",
   "language": "python",
   "name": "python2"
  },
  "language_info": {
   "codemirror_mode": {
    "name": "ipython",
    "version": 2
   },
   "file_extension": ".py",
   "mimetype": "text/x-python",
   "name": "python",
   "nbconvert_exporter": "python",
   "pygments_lexer": "ipython2",
   "version": "2.7.15"
  }
 },
 "nbformat": 4,
 "nbformat_minor": 2
}

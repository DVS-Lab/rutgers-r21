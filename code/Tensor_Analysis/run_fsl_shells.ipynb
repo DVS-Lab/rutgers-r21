{
 "cells": [
  {
   "cell_type": "code",
   "execution_count": 1,
   "metadata": {},
   "outputs": [],
   "source": [
    "import pandas as pd \n",
    "import numpy as np\n",
    "import os\n",
    "import re\n",
    "import subprocess"
   ]
  },
  {
   "cell_type": "code",
   "execution_count": 2,
   "metadata": {},
   "outputs": [],
   "source": [
    "\n",
    "cwd=os.getcwd()\n",
    "fnames=pd.read_csv('../../rest_task_outlier_exclusion_data.csv')\n",
    "fnames=fnames['fname']\n"
   ]
  },
  {
   "cell_type": "code",
   "execution_count": 15,
   "metadata": {},
   "outputs": [
    {
     "name": "stdout",
     "output_type": "stream",
     "text": [
      "sub-212_task-rest_run-02_bold.json\n"
     ]
    },
    {
     "data": {
      "text/plain": [
       "'RPTJ'"
      ]
     },
     "metadata": {},
     "output_type": "display_data"
    },
    {
     "name": "stdout",
     "output_type": "stream",
     "text": [
      "sub-212_task-rest_run-01_bold.json\n"
     ]
    },
    {
     "data": {
      "text/plain": [
       "'SHAMBOTH'"
      ]
     },
     "metadata": {},
     "output_type": "display_data"
    },
    {
     "name": "stdout",
     "output_type": "stream",
     "text": [
      "sub-218_task-rest_run-03_bold.json\n"
     ]
    },
    {
     "data": {
      "text/plain": [
       "'VLPFC'"
      ]
     },
     "metadata": {},
     "output_type": "display_data"
    },
    {
     "name": "stdout",
     "output_type": "stream",
     "text": [
      "sub-218_task-rest_run-01_bold.json\n"
     ]
    },
    {
     "data": {
      "text/plain": [
       "'SHAMBOTH'"
      ]
     },
     "metadata": {},
     "output_type": "display_data"
    },
    {
     "name": "stdout",
     "output_type": "stream",
     "text": [
      "sub-218_task-rest_run-04_bold.json\n"
     ]
    },
    {
     "data": {
      "text/plain": [
       "'BOTH'"
      ]
     },
     "metadata": {},
     "output_type": "display_data"
    },
    {
     "name": "stdout",
     "output_type": "stream",
     "text": [
      "sub-218_task-rest_run-02_bold.json\n"
     ]
    },
    {
     "data": {
      "text/plain": [
       "'RPTJ'"
      ]
     },
     "metadata": {},
     "output_type": "display_data"
    },
    {
     "name": "stdout",
     "output_type": "stream",
     "text": [
      "sub-228_task-rest_run-01_bold.json\n"
     ]
    },
    {
     "data": {
      "text/plain": [
       "'SHAMBOTH'"
      ]
     },
     "metadata": {},
     "output_type": "display_data"
    },
    {
     "name": "stdout",
     "output_type": "stream",
     "text": [
      "sub-228_task-rest_run-04_bold.json\n"
     ]
    },
    {
     "data": {
      "text/plain": [
       "'BOTH'"
      ]
     },
     "metadata": {},
     "output_type": "display_data"
    },
    {
     "name": "stdout",
     "output_type": "stream",
     "text": [
      "sub-228_task-rest_run-03_bold.json\n"
     ]
    },
    {
     "data": {
      "text/plain": [
       "'VLPFC'"
      ]
     },
     "metadata": {},
     "output_type": "display_data"
    },
    {
     "name": "stdout",
     "output_type": "stream",
     "text": [
      "sub-228_task-rest_run-02_bold.json\n"
     ]
    },
    {
     "data": {
      "text/plain": [
       "'RPTJ'"
      ]
     },
     "metadata": {},
     "output_type": "display_data"
    },
    {
     "name": "stdout",
     "output_type": "stream",
     "text": [
      "sub-221_task-rest_run-04_bold.json\n"
     ]
    },
    {
     "data": {
      "text/plain": [
       "'RPTJ'"
      ]
     },
     "metadata": {},
     "output_type": "display_data"
    },
    {
     "name": "stdout",
     "output_type": "stream",
     "text": [
      "sub-221_task-rest_run-02_bold.json\n"
     ]
    },
    {
     "data": {
      "text/plain": [
       "'SHAMBOTH'"
      ]
     },
     "metadata": {},
     "output_type": "display_data"
    },
    {
     "name": "stdout",
     "output_type": "stream",
     "text": [
      "sub-221_task-rest_run-01_bold.json\n"
     ]
    },
    {
     "data": {
      "text/plain": [
       "'VLPFC'"
      ]
     },
     "metadata": {},
     "output_type": "display_data"
    },
    {
     "name": "stdout",
     "output_type": "stream",
     "text": [
      "sub-221_task-rest_run-03_bold.json\n"
     ]
    },
    {
     "data": {
      "text/plain": [
       "'BOTH'"
      ]
     },
     "metadata": {},
     "output_type": "display_data"
    },
    {
     "name": "stdout",
     "output_type": "stream",
     "text": [
      "sub-213_task-rest_run-02_bold.json\n"
     ]
    },
    {
     "data": {
      "text/plain": [
       "'RPTJ'"
      ]
     },
     "metadata": {},
     "output_type": "display_data"
    },
    {
     "name": "stdout",
     "output_type": "stream",
     "text": [
      "sub-213_task-rest_run-01_bold.json\n"
     ]
    },
    {
     "data": {
      "text/plain": [
       "'SHAMBOTH'"
      ]
     },
     "metadata": {},
     "output_type": "display_data"
    },
    {
     "name": "stdout",
     "output_type": "stream",
     "text": [
      "sub-213_task-rest_run-04_bold.json\n"
     ]
    },
    {
     "data": {
      "text/plain": [
       "'BOTH'"
      ]
     },
     "metadata": {},
     "output_type": "display_data"
    },
    {
     "name": "stdout",
     "output_type": "stream",
     "text": [
      "sub-213_task-rest_run-03_bold.json\n"
     ]
    },
    {
     "data": {
      "text/plain": [
       "'VLPFC'"
      ]
     },
     "metadata": {},
     "output_type": "display_data"
    },
    {
     "name": "stdout",
     "output_type": "stream",
     "text": [
      "sub-215_task-rest_run-01_bold.json\n"
     ]
    },
    {
     "data": {
      "text/plain": [
       "'VLPFC'"
      ]
     },
     "metadata": {},
     "output_type": "display_data"
    },
    {
     "name": "stdout",
     "output_type": "stream",
     "text": [
      "sub-215_task-rest_run-02_bold.json\n"
     ]
    },
    {
     "data": {
      "text/plain": [
       "'SHAMBOTH'"
      ]
     },
     "metadata": {},
     "output_type": "display_data"
    },
    {
     "name": "stdout",
     "output_type": "stream",
     "text": [
      "sub-215_task-rest_run-04_bold.json\n"
     ]
    },
    {
     "data": {
      "text/plain": [
       "'RPTJ'"
      ]
     },
     "metadata": {},
     "output_type": "display_data"
    },
    {
     "name": "stdout",
     "output_type": "stream",
     "text": [
      "sub-215_task-rest_run-03_bold.json\n"
     ]
    },
    {
     "data": {
      "text/plain": [
       "'BOTH'"
      ]
     },
     "metadata": {},
     "output_type": "display_data"
    },
    {
     "name": "stdout",
     "output_type": "stream",
     "text": [
      "sub-227_task-rest_run-02_bold.json\n"
     ]
    },
    {
     "data": {
      "text/plain": [
       "'SHAMBOTH'"
      ]
     },
     "metadata": {},
     "output_type": "display_data"
    },
    {
     "name": "stdout",
     "output_type": "stream",
     "text": [
      "sub-227_task-rest_run-03_bold.json\n"
     ]
    },
    {
     "data": {
      "text/plain": [
       "'BOTH'"
      ]
     },
     "metadata": {},
     "output_type": "display_data"
    },
    {
     "name": "stdout",
     "output_type": "stream",
     "text": [
      "sub-227_task-rest_run-01_bold.json\n"
     ]
    },
    {
     "data": {
      "text/plain": [
       "'VLPFC'"
      ]
     },
     "metadata": {},
     "output_type": "display_data"
    },
    {
     "name": "stdout",
     "output_type": "stream",
     "text": [
      "sub-227_task-rest_run-04_bold.json\n"
     ]
    },
    {
     "data": {
      "text/plain": [
       "'RPTJ'"
      ]
     },
     "metadata": {},
     "output_type": "display_data"
    },
    {
     "name": "stdout",
     "output_type": "stream",
     "text": [
      "sub-231_task-rest_run-02_bold.json\n"
     ]
    },
    {
     "data": {
      "text/plain": [
       "'BOTH'"
      ]
     },
     "metadata": {},
     "output_type": "display_data"
    },
    {
     "name": "stdout",
     "output_type": "stream",
     "text": [
      "sub-231_task-rest_run-04_bold.json\n"
     ]
    },
    {
     "data": {
      "text/plain": [
       "'VLPFC'"
      ]
     },
     "metadata": {},
     "output_type": "display_data"
    },
    {
     "name": "stdout",
     "output_type": "stream",
     "text": [
      "sub-231_task-rest_run-03_bold.json\n"
     ]
    },
    {
     "data": {
      "text/plain": [
       "'SHAMBOTH'"
      ]
     },
     "metadata": {},
     "output_type": "display_data"
    },
    {
     "name": "stdout",
     "output_type": "stream",
     "text": [
      "sub-231_task-rest_run-01_bold.json\n"
     ]
    },
    {
     "data": {
      "text/plain": [
       "'RPTJ'"
      ]
     },
     "metadata": {},
     "output_type": "display_data"
    },
    {
     "name": "stdout",
     "output_type": "stream",
     "text": [
      "sub-210_task-rest_run-02_bold.json\n"
     ]
    },
    {
     "data": {
      "text/plain": [
       "'BOTH'"
      ]
     },
     "metadata": {},
     "output_type": "display_data"
    },
    {
     "name": "stdout",
     "output_type": "stream",
     "text": [
      "sub-210_task-rest_run-04_bold.json\n"
     ]
    },
    {
     "data": {
      "text/plain": [
       "'VLPFC'"
      ]
     },
     "metadata": {},
     "output_type": "display_data"
    },
    {
     "name": "stdout",
     "output_type": "stream",
     "text": [
      "sub-210_task-rest_run-03_bold.json\n"
     ]
    },
    {
     "data": {
      "text/plain": [
       "'SHAMBOTH'"
      ]
     },
     "metadata": {},
     "output_type": "display_data"
    },
    {
     "name": "stdout",
     "output_type": "stream",
     "text": [
      "sub-210_task-rest_run-01_bold.json\n"
     ]
    },
    {
     "data": {
      "text/plain": [
       "'RPTJ'"
      ]
     },
     "metadata": {},
     "output_type": "display_data"
    },
    {
     "name": "stdout",
     "output_type": "stream",
     "text": [
      "sub-224_task-rest_run-01_bold.json\n"
     ]
    },
    {
     "data": {
      "text/plain": [
       "'VLPFC'"
      ]
     },
     "metadata": {},
     "output_type": "display_data"
    },
    {
     "name": "stdout",
     "output_type": "stream",
     "text": [
      "sub-222_task-rest_run-02_bold.json\n"
     ]
    },
    {
     "data": {
      "text/plain": [
       "'BOTH'"
      ]
     },
     "metadata": {},
     "output_type": "display_data"
    },
    {
     "name": "stdout",
     "output_type": "stream",
     "text": [
      "sub-222_task-rest_run-03_bold.json\n"
     ]
    },
    {
     "data": {
      "text/plain": [
       "'SHAMBOTH'"
      ]
     },
     "metadata": {},
     "output_type": "display_data"
    },
    {
     "name": "stdout",
     "output_type": "stream",
     "text": [
      "sub-222_task-rest_run-01_bold.json\n"
     ]
    },
    {
     "data": {
      "text/plain": [
       "'RPTJ'"
      ]
     },
     "metadata": {},
     "output_type": "display_data"
    },
    {
     "name": "stdout",
     "output_type": "stream",
     "text": [
      "sub-222_task-rest_run-04_bold.json\n"
     ]
    },
    {
     "data": {
      "text/plain": [
       "'VLPFC'"
      ]
     },
     "metadata": {},
     "output_type": "display_data"
    },
    {
     "name": "stdout",
     "output_type": "stream",
     "text": [
      "sub-220_task-rest_run-03_bold.json\n"
     ]
    },
    {
     "data": {
      "text/plain": [
       "'BOTH'"
      ]
     },
     "metadata": {},
     "output_type": "display_data"
    },
    {
     "name": "stdout",
     "output_type": "stream",
     "text": [
      "sub-220_task-rest_run-01_bold.json\n"
     ]
    },
    {
     "data": {
      "text/plain": [
       "'VLPFC'"
      ]
     },
     "metadata": {},
     "output_type": "display_data"
    },
    {
     "name": "stdout",
     "output_type": "stream",
     "text": [
      "sub-220_task-rest_run-04_bold.json\n"
     ]
    },
    {
     "data": {
      "text/plain": [
       "'RPTJ'"
      ]
     },
     "metadata": {},
     "output_type": "display_data"
    },
    {
     "name": "stdout",
     "output_type": "stream",
     "text": [
      "sub-220_task-rest_run-02_bold.json\n"
     ]
    },
    {
     "data": {
      "text/plain": [
       "'SHAMBOTH'"
      ]
     },
     "metadata": {},
     "output_type": "display_data"
    },
    {
     "name": "stdout",
     "output_type": "stream",
     "text": [
      "sub-189_task-rest_run-03_bold.json\n"
     ]
    },
    {
     "data": {
      "text/plain": [
       "'BOTH'"
      ]
     },
     "metadata": {},
     "output_type": "display_data"
    },
    {
     "name": "stdout",
     "output_type": "stream",
     "text": [
      "sub-189_task-rest_run-02_bold.json\n"
     ]
    },
    {
     "data": {
      "text/plain": [
       "'SHAMBOTH'"
      ]
     },
     "metadata": {},
     "output_type": "display_data"
    },
    {
     "name": "stdout",
     "output_type": "stream",
     "text": [
      "sub-189_task-rest_run-01_bold.json\n"
     ]
    },
    {
     "data": {
      "text/plain": [
       "'VLPFC'"
      ]
     },
     "metadata": {},
     "output_type": "display_data"
    },
    {
     "name": "stdout",
     "output_type": "stream",
     "text": [
      "sub-189_task-rest_run-04_bold.json\n"
     ]
    },
    {
     "data": {
      "text/plain": [
       "'RPTJ'"
      ]
     },
     "metadata": {},
     "output_type": "display_data"
    },
    {
     "name": "stdout",
     "output_type": "stream",
     "text": [
      "sub-223_task-rest_run-04_bold.json\n"
     ]
    },
    {
     "data": {
      "text/plain": [
       "'BOTH'"
      ]
     },
     "metadata": {},
     "output_type": "display_data"
    },
    {
     "name": "stdout",
     "output_type": "stream",
     "text": [
      "sub-223_task-rest_run-02_bold.json\n"
     ]
    },
    {
     "data": {
      "text/plain": [
       "'RPTJ'"
      ]
     },
     "metadata": {},
     "output_type": "display_data"
    },
    {
     "name": "stdout",
     "output_type": "stream",
     "text": [
      "sub-223_task-rest_run-03_bold.json\n"
     ]
    },
    {
     "data": {
      "text/plain": [
       "'VLPFC'"
      ]
     },
     "metadata": {},
     "output_type": "display_data"
    },
    {
     "name": "stdout",
     "output_type": "stream",
     "text": [
      "sub-223_task-rest_run-01_bold.json\n"
     ]
    },
    {
     "data": {
      "text/plain": [
       "'SHAMBOTH'"
      ]
     },
     "metadata": {},
     "output_type": "display_data"
    },
    {
     "name": "stdout",
     "output_type": "stream",
     "text": [
      "sub-209_task-rest_run-01_bold.json\n"
     ]
    },
    {
     "data": {
      "text/plain": [
       "'SHAMBOTH'"
      ]
     },
     "metadata": {},
     "output_type": "display_data"
    },
    {
     "name": "stdout",
     "output_type": "stream",
     "text": [
      "sub-209_task-rest_run-03_bold.json\n"
     ]
    },
    {
     "data": {
      "text/plain": [
       "'VLPFC'"
      ]
     },
     "metadata": {},
     "output_type": "display_data"
    },
    {
     "name": "stdout",
     "output_type": "stream",
     "text": [
      "sub-209_task-rest_run-02_bold.json\n"
     ]
    },
    {
     "data": {
      "text/plain": [
       "'RPTJ'"
      ]
     },
     "metadata": {},
     "output_type": "display_data"
    },
    {
     "name": "stdout",
     "output_type": "stream",
     "text": [
      "sub-209_task-rest_run-04_bold.json\n"
     ]
    },
    {
     "data": {
      "text/plain": [
       "'BOTH'"
      ]
     },
     "metadata": {},
     "output_type": "display_data"
    },
    {
     "name": "stdout",
     "output_type": "stream",
     "text": [
      "sub-234_task-rest_run-04_bold.json\n"
     ]
    },
    {
     "data": {
      "text/plain": [
       "'SHAMBOTH'"
      ]
     },
     "metadata": {},
     "output_type": "display_data"
    },
    {
     "name": "stdout",
     "output_type": "stream",
     "text": [
      "sub-234_task-rest_run-02_bold.json\n"
     ]
    },
    {
     "data": {
      "text/plain": [
       "'VLPFC'"
      ]
     },
     "metadata": {},
     "output_type": "display_data"
    },
    {
     "name": "stdout",
     "output_type": "stream",
     "text": [
      "sub-234_task-rest_run-01_bold.json\n"
     ]
    },
    {
     "data": {
      "text/plain": [
       "'BOTH'"
      ]
     },
     "metadata": {},
     "output_type": "display_data"
    },
    {
     "name": "stdout",
     "output_type": "stream",
     "text": [
      "sub-234_task-rest_run-03_bold.json\n"
     ]
    },
    {
     "data": {
      "text/plain": [
       "'RPTJ'"
      ]
     },
     "metadata": {},
     "output_type": "display_data"
    },
    {
     "name": "stdout",
     "output_type": "stream",
     "text": [
      "sub-214_task-rest_run-03_bold.json\n"
     ]
    },
    {
     "data": {
      "text/plain": [
       "'RPTJ'"
      ]
     },
     "metadata": {},
     "output_type": "display_data"
    },
    {
     "name": "stdout",
     "output_type": "stream",
     "text": [
      "sub-214_task-rest_run-02_bold.json\n"
     ]
    },
    {
     "data": {
      "text/plain": [
       "'VLPFC'"
      ]
     },
     "metadata": {},
     "output_type": "display_data"
    },
    {
     "name": "stdout",
     "output_type": "stream",
     "text": [
      "sub-214_task-rest_run-04_bold.json\n"
     ]
    },
    {
     "data": {
      "text/plain": [
       "'SHAMBOTH'"
      ]
     },
     "metadata": {},
     "output_type": "display_data"
    },
    {
     "name": "stdout",
     "output_type": "stream",
     "text": [
      "sub-214_task-rest_run-01_bold.json\n"
     ]
    },
    {
     "data": {
      "text/plain": [
       "'BOTH'"
      ]
     },
     "metadata": {},
     "output_type": "display_data"
    },
    {
     "name": "stdout",
     "output_type": "stream",
     "text": [
      "sub-207_task-rest_run-02_bold.json\n"
     ]
    },
    {
     "data": {
      "text/plain": [
       "'SHAMBOTH'"
      ]
     },
     "metadata": {},
     "output_type": "display_data"
    },
    {
     "name": "stdout",
     "output_type": "stream",
     "text": [
      "sub-207_task-rest_run-04_bold.json\n"
     ]
    },
    {
     "data": {
      "text/plain": [
       "'RPTJ'"
      ]
     },
     "metadata": {},
     "output_type": "display_data"
    },
    {
     "name": "stdout",
     "output_type": "stream",
     "text": [
      "sub-207_task-rest_run-01_bold.json\n"
     ]
    },
    {
     "data": {
      "text/plain": [
       "'VLPFC'"
      ]
     },
     "metadata": {},
     "output_type": "display_data"
    },
    {
     "name": "stdout",
     "output_type": "stream",
     "text": [
      "sub-207_task-rest_run-03_bold.json\n"
     ]
    },
    {
     "data": {
      "text/plain": [
       "'BOTH'"
      ]
     },
     "metadata": {},
     "output_type": "display_data"
    },
    {
     "name": "stdout",
     "output_type": "stream",
     "text": [
      "sub-203_task-rest_run-04_bold.json\n"
     ]
    },
    {
     "data": {
      "text/plain": [
       "'VLPFC'"
      ]
     },
     "metadata": {},
     "output_type": "display_data"
    },
    {
     "name": "stdout",
     "output_type": "stream",
     "text": [
      "sub-203_task-rest_run-03_bold.json\n"
     ]
    },
    {
     "data": {
      "text/plain": [
       "'SHAMBOTH'"
      ]
     },
     "metadata": {},
     "output_type": "display_data"
    },
    {
     "name": "stdout",
     "output_type": "stream",
     "text": [
      "sub-203_task-rest_run-01_bold.json\n"
     ]
    },
    {
     "data": {
      "text/plain": [
       "'RPTJ'"
      ]
     },
     "metadata": {},
     "output_type": "display_data"
    },
    {
     "name": "stdout",
     "output_type": "stream",
     "text": [
      "sub-203_task-rest_run-02_bold.json\n"
     ]
    },
    {
     "data": {
      "text/plain": [
       "'BOTH'"
      ]
     },
     "metadata": {},
     "output_type": "display_data"
    },
    {
     "name": "stdout",
     "output_type": "stream",
     "text": [
      "sub-219_task-rest_run-01_bold.json\n"
     ]
    },
    {
     "data": {
      "text/plain": [
       "'BOTH'"
      ]
     },
     "metadata": {},
     "output_type": "display_data"
    },
    {
     "name": "stdout",
     "output_type": "stream",
     "text": [
      "sub-219_task-rest_run-03_bold.json\n"
     ]
    },
    {
     "data": {
      "text/plain": [
       "'RPTJ'"
      ]
     },
     "metadata": {},
     "output_type": "display_data"
    },
    {
     "name": "stdout",
     "output_type": "stream",
     "text": [
      "sub-219_task-rest_run-02_bold.json\n"
     ]
    },
    {
     "data": {
      "text/plain": [
       "'VLPFC'"
      ]
     },
     "metadata": {},
     "output_type": "display_data"
    },
    {
     "name": "stdout",
     "output_type": "stream",
     "text": [
      "sub-219_task-rest_run-04_bold.json\n"
     ]
    },
    {
     "data": {
      "text/plain": [
       "'SHAMBOTH'"
      ]
     },
     "metadata": {},
     "output_type": "display_data"
    },
    {
     "name": "stdout",
     "output_type": "stream",
     "text": [
      "sub-217_task-rest_run-04_bold.json\n"
     ]
    },
    {
     "data": {
      "text/plain": [
       "'VLPFC'"
      ]
     },
     "metadata": {},
     "output_type": "display_data"
    },
    {
     "name": "stdout",
     "output_type": "stream",
     "text": [
      "sub-217_task-rest_run-02_bold.json\n"
     ]
    },
    {
     "data": {
      "text/plain": [
       "'BOTH'"
      ]
     },
     "metadata": {},
     "output_type": "display_data"
    },
    {
     "name": "stdout",
     "output_type": "stream",
     "text": [
      "sub-217_task-rest_run-01_bold.json\n"
     ]
    },
    {
     "data": {
      "text/plain": [
       "'RPTJ'"
      ]
     },
     "metadata": {},
     "output_type": "display_data"
    },
    {
     "name": "stdout",
     "output_type": "stream",
     "text": [
      "sub-217_task-rest_run-03_bold.json\n"
     ]
    },
    {
     "data": {
      "text/plain": [
       "'SHAMBOTH'"
      ]
     },
     "metadata": {},
     "output_type": "display_data"
    },
    {
     "name": "stdout",
     "output_type": "stream",
     "text": [
      "sub-211_task-rest_run-03_bold.json\n"
     ]
    },
    {
     "data": {
      "text/plain": [
       "'RPTJ'"
      ]
     },
     "metadata": {},
     "output_type": "display_data"
    },
    {
     "name": "stdout",
     "output_type": "stream",
     "text": [
      "sub-211_task-rest_run-04_bold.json\n"
     ]
    },
    {
     "data": {
      "text/plain": [
       "'SHAMBOTH'"
      ]
     },
     "metadata": {},
     "output_type": "display_data"
    },
    {
     "name": "stdout",
     "output_type": "stream",
     "text": [
      "sub-211_task-rest_run-01_bold.json\n"
     ]
    },
    {
     "data": {
      "text/plain": [
       "'BOTH'"
      ]
     },
     "metadata": {},
     "output_type": "display_data"
    },
    {
     "name": "stdout",
     "output_type": "stream",
     "text": [
      "sub-211_task-rest_run-02_bold.json\n"
     ]
    },
    {
     "data": {
      "text/plain": [
       "'VLPFC'"
      ]
     },
     "metadata": {},
     "output_type": "display_data"
    },
    {
     "name": "stdout",
     "output_type": "stream",
     "text": [
      "sub-225_task-rest_run-01_bold.json\n"
     ]
    },
    {
     "data": {
      "text/plain": [
       "'BOTH'"
      ]
     },
     "metadata": {},
     "output_type": "display_data"
    },
    {
     "name": "stdout",
     "output_type": "stream",
     "text": [
      "sub-225_task-rest_run-04_bold.json\n"
     ]
    },
    {
     "data": {
      "text/plain": [
       "'SHAMBOTH'"
      ]
     },
     "metadata": {},
     "output_type": "display_data"
    },
    {
     "name": "stdout",
     "output_type": "stream",
     "text": [
      "sub-225_task-rest_run-03_bold.json\n"
     ]
    },
    {
     "data": {
      "text/plain": [
       "'RPTJ'"
      ]
     },
     "metadata": {},
     "output_type": "display_data"
    },
    {
     "name": "stdout",
     "output_type": "stream",
     "text": [
      "sub-225_task-rest_run-02_bold.json\n"
     ]
    },
    {
     "data": {
      "text/plain": [
       "'VLPFC'"
      ]
     },
     "metadata": {},
     "output_type": "display_data"
    },
    {
     "name": "stdout",
     "output_type": "stream",
     "text": [
      "sub-208_task-rest_run-04_bold.json\n"
     ]
    },
    {
     "data": {
      "text/plain": [
       "'SHAMBOTH'"
      ]
     },
     "metadata": {},
     "output_type": "display_data"
    },
    {
     "name": "stdout",
     "output_type": "stream",
     "text": [
      "sub-208_task-rest_run-01_bold.json\n"
     ]
    },
    {
     "data": {
      "text/plain": [
       "'BOTH'"
      ]
     },
     "metadata": {},
     "output_type": "display_data"
    },
    {
     "name": "stdout",
     "output_type": "stream",
     "text": [
      "sub-208_task-rest_run-02_bold.json\n"
     ]
    },
    {
     "data": {
      "text/plain": [
       "'VLPFC'"
      ]
     },
     "metadata": {},
     "output_type": "display_data"
    },
    {
     "name": "stdout",
     "output_type": "stream",
     "text": [
      "sub-208_task-rest_run-03_bold.json\n"
     ]
    },
    {
     "data": {
      "text/plain": [
       "'RPTJ'"
      ]
     },
     "metadata": {},
     "output_type": "display_data"
    },
    {
     "name": "stdout",
     "output_type": "stream",
     "text": [
      "sub-230_task-rest_run-02_bold.json\n"
     ]
    },
    {
     "data": {
      "text/plain": [
       "'RPTJ'"
      ]
     },
     "metadata": {},
     "output_type": "display_data"
    },
    {
     "name": "stdout",
     "output_type": "stream",
     "text": [
      "sub-230_task-rest_run-04_bold.json\n"
     ]
    },
    {
     "data": {
      "text/plain": [
       "'BOTH'"
      ]
     },
     "metadata": {},
     "output_type": "display_data"
    },
    {
     "name": "stdout",
     "output_type": "stream",
     "text": [
      "sub-230_task-rest_run-01_bold.json\n"
     ]
    },
    {
     "data": {
      "text/plain": [
       "'SHAMBOTH'"
      ]
     },
     "metadata": {},
     "output_type": "display_data"
    },
    {
     "name": "stdout",
     "output_type": "stream",
     "text": [
      "sub-230_task-rest_run-03_bold.json\n"
     ]
    },
    {
     "data": {
      "text/plain": [
       "'VLPFC'"
      ]
     },
     "metadata": {},
     "output_type": "display_data"
    }
   ],
   "source": [
    "goods=pd.DataFrame(columns=['sub','run','task'])\n",
    "\n",
    "for file in fnames:\n",
    "    print file\n",
    "    sub=re.search('sub-(.*)_task-', file).group(1)\n",
    "    run=re.search('run-(.*)_bold', file).group(1)\n",
    "    task=pd.read_csv('../../sourcedata/sub-%s/sub-%s_task-rest_run-%s_events.tsv'%(sub,sub,run),delimiter='\\t')\n",
    "    task=task['trial_type'][0]\n",
    "    display(task)\n",
    "    scriptname=\"zscore.sh\"\n",
    "    command=\"bash %s %s %s &\"%(scriptname, sub, run)\n",
    "    NCORES=25\n",
    "    !while [ $(ps -ef | grep -v grep | grep $scriptname | wc -l) -ge $NCORES ] ; do sleep 5s; done\n",
    "    subprocess.call(command, shell=True)\n",
    "    !sleep 5s\n",
    "    lent=len(goods)\n",
    "    goods.loc[lent]=[sub,run,task]\n"
   ]
  },
  {
   "cell_type": "code",
   "execution_count": 14,
   "metadata": {},
   "outputs": [
    {
     "data": {
      "text/html": [
       "<div>\n",
       "<style scoped>\n",
       "    .dataframe tbody tr th:only-of-type {\n",
       "        vertical-align: middle;\n",
       "    }\n",
       "\n",
       "    .dataframe tbody tr th {\n",
       "        vertical-align: top;\n",
       "    }\n",
       "\n",
       "    .dataframe thead th {\n",
       "        text-align: right;\n",
       "    }\n",
       "</style>\n",
       "<table border=\"1\" class=\"dataframe\">\n",
       "  <thead>\n",
       "    <tr style=\"text-align: right;\">\n",
       "      <th></th>\n",
       "      <th>sub</th>\n",
       "      <th>run</th>\n",
       "      <th>task</th>\n",
       "    </tr>\n",
       "  </thead>\n",
       "  <tbody>\n",
       "    <tr>\n",
       "      <th>0</th>\n",
       "      <td>230</td>\n",
       "      <td>03</td>\n",
       "      <td>VLPFC</td>\n",
       "    </tr>\n",
       "  </tbody>\n",
       "</table>\n",
       "</div>"
      ],
      "text/plain": [
       "   sub run   task\n",
       "0  230  03  VLPFC"
      ]
     },
     "execution_count": 14,
     "metadata": {},
     "output_type": "execute_result"
    }
   ],
   "source": [
    "lent=len(goods)\n",
    "goods.loc[lent]=[sub,run,task]\n",
    "goods"
   ]
  },
  {
   "cell_type": "code",
   "execution_count": null,
   "metadata": {},
   "outputs": [],
   "source": []
  },
  {
   "cell_type": "code",
   "execution_count": null,
   "metadata": {},
   "outputs": [],
   "source": []
  }
 ],
 "metadata": {
  "kernelspec": {
   "display_name": "Python 2",
   "language": "python",
   "name": "python2"
  },
  "language_info": {
   "codemirror_mode": {
    "name": "ipython",
    "version": 2
   },
   "file_extension": ".py",
   "mimetype": "text/x-python",
   "name": "python",
   "nbconvert_exporter": "python",
   "pygments_lexer": "ipython2",
   "version": "2.7.15"
  }
 },
 "nbformat": 4,
 "nbformat_minor": 2
}

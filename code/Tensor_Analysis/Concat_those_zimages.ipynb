{
 "cells": [
  {
   "cell_type": "code",
   "execution_count": 1,
   "metadata": {},
   "outputs": [
    {
     "name": "stderr",
     "output_type": "stream",
     "text": [
      "/usr/local/anaconda2/lib/python2.7/site-packages/h5py/__init__.py:36: FutureWarning: Conversion of the second argument of issubdtype from `float` to `np.floating` is deprecated. In future, it will be treated as `np.float64 == np.dtype(float).type`.\n",
      "  from ._conv import register_converters as _register_converters\n",
      "/usr/local/anaconda2/lib/python2.7/site-packages/ipykernel_launcher.py:8: DeprecationWarning: Python2 support is deprecated and will be removed in a future release. Consider switching to Python3.\n",
      "  \n"
     ]
    }
   ],
   "source": [
    "import pandas as pd\n",
    "import numpy as np\n",
    "import subprocess\n",
    "import os\n",
    "os.chdir('../..')\n",
    "data_dir='derivatives/Tensor_ICA'\n",
    "import re\n",
    "import nilearn.image as image"
   ]
  },
  {
   "cell_type": "code",
   "execution_count": 2,
   "metadata": {},
   "outputs": [],
   "source": [
    "f=[]\n",
    "for root,directories,filenames in os.walk(data_dir):\n",
    "    for x in filenames:\n",
    "        if \"zscore\" in x:\n",
    "            f.append(os.path.join(root,x))"
   ]
  },
  {
   "cell_type": "code",
   "execution_count": 3,
   "metadata": {},
   "outputs": [],
   "source": [
    "sub=[]\n",
    "for file in f:\n",
    "    sub.append(re.search('Tensor_ICA/sub-(.*)/preproc_task-', file).group(1))\n",
    "sub=list(set(sub))"
   ]
  },
  {
   "cell_type": "code",
   "execution_count": 4,
   "metadata": {},
   "outputs": [
    {
     "name": "stdout",
     "output_type": "stream",
     "text": [
      "sub-217\n",
      "['derivatives/Tensor_ICA/sub-217/preproc_task-rest_run-02_stim-BOTH_sm-6.feat/sub-217_stim-BOTH_zscored_image.nii.gz', 'derivatives/Tensor_ICA/sub-217/preproc_task-rest_run-01_stim-RPTJ_sm-6.feat/sub-217_stim-RPTJ_zscored_image.nii.gz', 'derivatives/Tensor_ICA/sub-217/preproc_task-rest_run-03_stim-SHAMBOTH_sm-6.feat/sub-217_stim-SHAMBOTH_zscored_image.nii.gz', 'derivatives/Tensor_ICA/sub-217/preproc_task-rest_run-04_stim-VLPFC_sm-6.feat/sub-217_stim-VLPFC_zscored_image.nii.gz']\n",
      "sub-214\n",
      "['derivatives/Tensor_ICA/sub-214/preproc_task-rest_run-01_stim-BOTH_sm-6.feat/sub-214_stim-BOTH_zscored_image.nii.gz', 'derivatives/Tensor_ICA/sub-214/preproc_task-rest_run-03_stim-RPTJ_sm-6.feat/sub-214_stim-RPTJ_zscored_image.nii.gz', 'derivatives/Tensor_ICA/sub-214/preproc_task-rest_run-04_stim-SHAMBOTH_sm-6.feat/sub-214_stim-SHAMBOTH_zscored_image.nii.gz', 'derivatives/Tensor_ICA/sub-214/preproc_task-rest_run-02_stim-VLPFC_sm-6.feat/sub-214_stim-VLPFC_zscored_image.nii.gz']\n",
      "sub-215\n",
      "['derivatives/Tensor_ICA/sub-215/preproc_task-rest_run-03_stim-BOTH_sm-6.feat/sub-215_stim-BOTH_zscored_image.nii.gz', 'derivatives/Tensor_ICA/sub-215/preproc_task-rest_run-04_stim-RPTJ_sm-6.feat/sub-215_stim-RPTJ_zscored_image.nii.gz', 'derivatives/Tensor_ICA/sub-215/preproc_task-rest_run-02_stim-SHAMBOTH_sm-6.feat/sub-215_stim-SHAMBOTH_zscored_image.nii.gz', 'derivatives/Tensor_ICA/sub-215/preproc_task-rest_run-01_stim-VLPFC_sm-6.feat/sub-215_stim-VLPFC_zscored_image.nii.gz']\n",
      "sub-212\n",
      "sub-213\n",
      "['derivatives/Tensor_ICA/sub-213/preproc_task-rest_run-04_stim-BOTH_sm-6.feat/sub-213_stim-BOTH_zscored_image.nii.gz', 'derivatives/Tensor_ICA/sub-213/preproc_task-rest_run-02_stim-RPTJ_sm-6.feat/sub-213_stim-RPTJ_zscored_image.nii.gz', 'derivatives/Tensor_ICA/sub-213/preproc_task-rest_run-01_stim-SHAMBOTH_sm-6.feat/sub-213_stim-SHAMBOTH_zscored_image.nii.gz', 'derivatives/Tensor_ICA/sub-213/preproc_task-rest_run-03_stim-VLPFC_sm-6.feat/sub-213_stim-VLPFC_zscored_image.nii.gz']\n",
      "sub-210\n",
      "['derivatives/Tensor_ICA/sub-210/preproc_task-rest_run-02_stim-BOTH_sm-6.feat/sub-210_stim-BOTH_zscored_image.nii.gz', 'derivatives/Tensor_ICA/sub-210/preproc_task-rest_run-01_stim-RPTJ_sm-6.feat/sub-210_stim-RPTJ_zscored_image.nii.gz', 'derivatives/Tensor_ICA/sub-210/preproc_task-rest_run-03_stim-SHAMBOTH_sm-6.feat/sub-210_stim-SHAMBOTH_zscored_image.nii.gz', 'derivatives/Tensor_ICA/sub-210/preproc_task-rest_run-04_stim-VLPFC_sm-6.feat/sub-210_stim-VLPFC_zscored_image.nii.gz']\n",
      "sub-211\n",
      "['derivatives/Tensor_ICA/sub-211/preproc_task-rest_run-01_stim-BOTH_sm-6.feat/sub-211_stim-BOTH_zscored_image.nii.gz', 'derivatives/Tensor_ICA/sub-211/preproc_task-rest_run-03_stim-RPTJ_sm-6.feat/sub-211_stim-RPTJ_zscored_image.nii.gz', 'derivatives/Tensor_ICA/sub-211/preproc_task-rest_run-04_stim-SHAMBOTH_sm-6.feat/sub-211_stim-SHAMBOTH_zscored_image.nii.gz', 'derivatives/Tensor_ICA/sub-211/preproc_task-rest_run-02_stim-VLPFC_sm-6.feat/sub-211_stim-VLPFC_zscored_image.nii.gz']\n",
      "sub-218\n",
      "['derivatives/Tensor_ICA/sub-218/preproc_task-rest_run-04_stim-BOTH_sm-6.feat/sub-218_stim-BOTH_zscored_image.nii.gz', 'derivatives/Tensor_ICA/sub-218/preproc_task-rest_run-02_stim-RPTJ_sm-6.feat/sub-218_stim-RPTJ_zscored_image.nii.gz', 'derivatives/Tensor_ICA/sub-218/preproc_task-rest_run-01_stim-SHAMBOTH_sm-6.feat/sub-218_stim-SHAMBOTH_zscored_image.nii.gz', 'derivatives/Tensor_ICA/sub-218/preproc_task-rest_run-03_stim-VLPFC_sm-6.feat/sub-218_stim-VLPFC_zscored_image.nii.gz']\n",
      "sub-219\n",
      "['derivatives/Tensor_ICA/sub-219/preproc_task-rest_run-01_stim-BOTH_sm-6.feat/sub-219_stim-BOTH_zscored_image.nii.gz', 'derivatives/Tensor_ICA/sub-219/preproc_task-rest_run-03_stim-RPTJ_sm-6.feat/sub-219_stim-RPTJ_zscored_image.nii.gz', 'derivatives/Tensor_ICA/sub-219/preproc_task-rest_run-04_stim-SHAMBOTH_sm-6.feat/sub-219_stim-SHAMBOTH_zscored_image.nii.gz', 'derivatives/Tensor_ICA/sub-219/preproc_task-rest_run-02_stim-VLPFC_sm-6.feat/sub-219_stim-VLPFC_zscored_image.nii.gz']\n",
      "sub-234\n",
      "['derivatives/Tensor_ICA/sub-234/preproc_task-rest_run-01_stim-BOTH_sm-6.feat/sub-234_stim-BOTH_zscored_image.nii.gz', 'derivatives/Tensor_ICA/sub-234/preproc_task-rest_run-03_stim-RPTJ_sm-6.feat/sub-234_stim-RPTJ_zscored_image.nii.gz', 'derivatives/Tensor_ICA/sub-234/preproc_task-rest_run-04_stim-SHAMBOTH_sm-6.feat/sub-234_stim-SHAMBOTH_zscored_image.nii.gz', 'derivatives/Tensor_ICA/sub-234/preproc_task-rest_run-02_stim-VLPFC_sm-6.feat/sub-234_stim-VLPFC_zscored_image.nii.gz']\n",
      "sub-231\n",
      "['derivatives/Tensor_ICA/sub-231/preproc_task-rest_run-02_stim-BOTH_sm-6.feat/sub-231_stim-BOTH_zscored_image.nii.gz', 'derivatives/Tensor_ICA/sub-231/preproc_task-rest_run-01_stim-RPTJ_sm-6.feat/sub-231_stim-RPTJ_zscored_image.nii.gz', 'derivatives/Tensor_ICA/sub-231/preproc_task-rest_run-03_stim-SHAMBOTH_sm-6.feat/sub-231_stim-SHAMBOTH_zscored_image.nii.gz', 'derivatives/Tensor_ICA/sub-231/preproc_task-rest_run-04_stim-VLPFC_sm-6.feat/sub-231_stim-VLPFC_zscored_image.nii.gz']\n",
      "sub-189\n",
      "['derivatives/Tensor_ICA/sub-189/preproc_task-rest_run-03_stim-BOTH_sm-6.feat/sub-189_stim-BOTH_zscored_image.nii.gz', 'derivatives/Tensor_ICA/sub-189/preproc_task-rest_run-04_stim-RPTJ_sm-6.feat/sub-189_stim-RPTJ_zscored_image.nii.gz', 'derivatives/Tensor_ICA/sub-189/preproc_task-rest_run-02_stim-SHAMBOTH_sm-6.feat/sub-189_stim-SHAMBOTH_zscored_image.nii.gz', 'derivatives/Tensor_ICA/sub-189/preproc_task-rest_run-01_stim-VLPFC_sm-6.feat/sub-189_stim-VLPFC_zscored_image.nii.gz']\n",
      "sub-203\n",
      "['derivatives/Tensor_ICA/sub-203/preproc_task-rest_run-02_stim-BOTH_sm-6.feat/sub-203_stim-BOTH_zscored_image.nii.gz', 'derivatives/Tensor_ICA/sub-203/preproc_task-rest_run-01_stim-RPTJ_sm-6.feat/sub-203_stim-RPTJ_zscored_image.nii.gz', 'derivatives/Tensor_ICA/sub-203/preproc_task-rest_run-03_stim-SHAMBOTH_sm-6.feat/sub-203_stim-SHAMBOTH_zscored_image.nii.gz', 'derivatives/Tensor_ICA/sub-203/preproc_task-rest_run-04_stim-VLPFC_sm-6.feat/sub-203_stim-VLPFC_zscored_image.nii.gz']\n",
      "sub-207\n",
      "['derivatives/Tensor_ICA/sub-207/preproc_task-rest_run-03_stim-BOTH_sm-6.feat/sub-207_stim-BOTH_zscored_image.nii.gz', 'derivatives/Tensor_ICA/sub-207/preproc_task-rest_run-04_stim-RPTJ_sm-6.feat/sub-207_stim-RPTJ_zscored_image.nii.gz', 'derivatives/Tensor_ICA/sub-207/preproc_task-rest_run-02_stim-SHAMBOTH_sm-6.feat/sub-207_stim-SHAMBOTH_zscored_image.nii.gz', 'derivatives/Tensor_ICA/sub-207/preproc_task-rest_run-01_stim-VLPFC_sm-6.feat/sub-207_stim-VLPFC_zscored_image.nii.gz']\n",
      "sub-209\n",
      "['derivatives/Tensor_ICA/sub-209/preproc_task-rest_run-04_stim-BOTH_sm-6.feat/sub-209_stim-BOTH_zscored_image.nii.gz', 'derivatives/Tensor_ICA/sub-209/preproc_task-rest_run-02_stim-RPTJ_sm-6.feat/sub-209_stim-RPTJ_zscored_image.nii.gz', 'derivatives/Tensor_ICA/sub-209/preproc_task-rest_run-01_stim-SHAMBOTH_sm-6.feat/sub-209_stim-SHAMBOTH_zscored_image.nii.gz', 'derivatives/Tensor_ICA/sub-209/preproc_task-rest_run-03_stim-VLPFC_sm-6.feat/sub-209_stim-VLPFC_zscored_image.nii.gz']\n",
      "sub-208\n",
      "['derivatives/Tensor_ICA/sub-208/preproc_task-rest_run-01_stim-BOTH_sm-6.feat/sub-208_stim-BOTH_zscored_image.nii.gz', 'derivatives/Tensor_ICA/sub-208/preproc_task-rest_run-03_stim-RPTJ_sm-6.feat/sub-208_stim-RPTJ_zscored_image.nii.gz', 'derivatives/Tensor_ICA/sub-208/preproc_task-rest_run-04_stim-SHAMBOTH_sm-6.feat/sub-208_stim-SHAMBOTH_zscored_image.nii.gz', 'derivatives/Tensor_ICA/sub-208/preproc_task-rest_run-02_stim-VLPFC_sm-6.feat/sub-208_stim-VLPFC_zscored_image.nii.gz']\n",
      "sub-228\n",
      "['derivatives/Tensor_ICA/sub-228/preproc_task-rest_run-04_stim-BOTH_sm-6.feat/sub-228_stim-BOTH_zscored_image.nii.gz', 'derivatives/Tensor_ICA/sub-228/preproc_task-rest_run-02_stim-RPTJ_sm-6.feat/sub-228_stim-RPTJ_zscored_image.nii.gz', 'derivatives/Tensor_ICA/sub-228/preproc_task-rest_run-01_stim-SHAMBOTH_sm-6.feat/sub-228_stim-SHAMBOTH_zscored_image.nii.gz', 'derivatives/Tensor_ICA/sub-228/preproc_task-rest_run-03_stim-VLPFC_sm-6.feat/sub-228_stim-VLPFC_zscored_image.nii.gz']\n",
      "sub-227\n",
      "['derivatives/Tensor_ICA/sub-227/preproc_task-rest_run-03_stim-BOTH_sm-6.feat/sub-227_stim-BOTH_zscored_image.nii.gz', 'derivatives/Tensor_ICA/sub-227/preproc_task-rest_run-04_stim-RPTJ_sm-6.feat/sub-227_stim-RPTJ_zscored_image.nii.gz', 'derivatives/Tensor_ICA/sub-227/preproc_task-rest_run-02_stim-SHAMBOTH_sm-6.feat/sub-227_stim-SHAMBOTH_zscored_image.nii.gz', 'derivatives/Tensor_ICA/sub-227/preproc_task-rest_run-01_stim-VLPFC_sm-6.feat/sub-227_stim-VLPFC_zscored_image.nii.gz']\n"
     ]
    },
    {
     "name": "stdout",
     "output_type": "stream",
     "text": [
      "sub-225\n",
      "['derivatives/Tensor_ICA/sub-225/preproc_task-rest_run-01_stim-BOTH_sm-6.feat/sub-225_stim-BOTH_zscored_image.nii.gz', 'derivatives/Tensor_ICA/sub-225/preproc_task-rest_run-03_stim-RPTJ_sm-6.feat/sub-225_stim-RPTJ_zscored_image.nii.gz', 'derivatives/Tensor_ICA/sub-225/preproc_task-rest_run-04_stim-SHAMBOTH_sm-6.feat/sub-225_stim-SHAMBOTH_zscored_image.nii.gz', 'derivatives/Tensor_ICA/sub-225/preproc_task-rest_run-02_stim-VLPFC_sm-6.feat/sub-225_stim-VLPFC_zscored_image.nii.gz']\n",
      "sub-224\n",
      "sub-223\n",
      "['derivatives/Tensor_ICA/sub-223/preproc_task-rest_run-04_stim-BOTH_sm-6.feat/sub-223_stim-BOTH_zscored_image.nii.gz', 'derivatives/Tensor_ICA/sub-223/preproc_task-rest_run-02_stim-RPTJ_sm-6.feat/sub-223_stim-RPTJ_zscored_image.nii.gz', 'derivatives/Tensor_ICA/sub-223/preproc_task-rest_run-01_stim-SHAMBOTH_sm-6.feat/sub-223_stim-SHAMBOTH_zscored_image.nii.gz', 'derivatives/Tensor_ICA/sub-223/preproc_task-rest_run-03_stim-VLPFC_sm-6.feat/sub-223_stim-VLPFC_zscored_image.nii.gz']\n",
      "sub-222\n",
      "['derivatives/Tensor_ICA/sub-222/preproc_task-rest_run-02_stim-BOTH_sm-6.feat/sub-222_stim-BOTH_zscored_image.nii.gz', 'derivatives/Tensor_ICA/sub-222/preproc_task-rest_run-01_stim-RPTJ_sm-6.feat/sub-222_stim-RPTJ_zscored_image.nii.gz', 'derivatives/Tensor_ICA/sub-222/preproc_task-rest_run-03_stim-SHAMBOTH_sm-6.feat/sub-222_stim-SHAMBOTH_zscored_image.nii.gz', 'derivatives/Tensor_ICA/sub-222/preproc_task-rest_run-04_stim-VLPFC_sm-6.feat/sub-222_stim-VLPFC_zscored_image.nii.gz']\n",
      "sub-221\n",
      "['derivatives/Tensor_ICA/sub-221/preproc_task-rest_run-03_stim-BOTH_sm-6.feat/sub-221_stim-BOTH_zscored_image.nii.gz', 'derivatives/Tensor_ICA/sub-221/preproc_task-rest_run-04_stim-RPTJ_sm-6.feat/sub-221_stim-RPTJ_zscored_image.nii.gz', 'derivatives/Tensor_ICA/sub-221/preproc_task-rest_run-02_stim-SHAMBOTH_sm-6.feat/sub-221_stim-SHAMBOTH_zscored_image.nii.gz', 'derivatives/Tensor_ICA/sub-221/preproc_task-rest_run-01_stim-VLPFC_sm-6.feat/sub-221_stim-VLPFC_zscored_image.nii.gz']\n",
      "sub-220\n",
      "['derivatives/Tensor_ICA/sub-220/preproc_task-rest_run-03_stim-BOTH_sm-6.feat/sub-220_stim-BOTH_zscored_image.nii.gz', 'derivatives/Tensor_ICA/sub-220/preproc_task-rest_run-04_stim-RPTJ_sm-6.feat/sub-220_stim-RPTJ_zscored_image.nii.gz', 'derivatives/Tensor_ICA/sub-220/preproc_task-rest_run-02_stim-SHAMBOTH_sm-6.feat/sub-220_stim-SHAMBOTH_zscored_image.nii.gz', 'derivatives/Tensor_ICA/sub-220/preproc_task-rest_run-01_stim-VLPFC_sm-6.feat/sub-220_stim-VLPFC_zscored_image.nii.gz']\n"
     ]
    }
   ],
   "source": [
    "list_of_final_files=[]\n",
    "for sub in sub:\n",
    "    print('sub-%s'%(sub))\n",
    "    mylist=[s for s in f if 'sub-%s'%(sub) in s]\n",
    "    mylist.sort()\n",
    "    if len(mylist)==4:\n",
    "        mylist.sort(key=lambda x: x[x.find('stim-'):])\n",
    "        print(mylist)\n",
    "        full_rest_filename=\"derivatives/Tensor_ICA/sub-%s/sub-%s_fullrest-stim-BRTSHVL.nii.gz\"%(sub,sub)\n",
    "        list_of_final_files.append(full_rest_filename)\n",
    "        full_rest=image.concat_imgs(mylist)\n",
    "        full_rest.to_filename(full_rest_filename)"
   ]
  },
  {
   "cell_type": "code",
   "execution_count": 5,
   "metadata": {},
   "outputs": [],
   "source": [
    "df=pd.DataFrame(list_of_final_files)\n",
    "df.to_csv(\"concatonated_rest_files.csv\",sep=',',index=False)"
   ]
  },
  {
   "cell_type": "code",
   "execution_count": null,
   "metadata": {},
   "outputs": [],
   "source": []
  },
  {
   "cell_type": "code",
   "execution_count": null,
   "metadata": {},
   "outputs": [],
   "source": []
  }
 ],
 "metadata": {
  "kernelspec": {
   "display_name": "Python 2",
   "language": "python",
   "name": "python2"
  },
  "language_info": {
   "codemirror_mode": {
    "name": "ipython",
    "version": 2
   },
   "file_extension": ".py",
   "mimetype": "text/x-python",
   "name": "python",
   "nbconvert_exporter": "python",
   "pygments_lexer": "ipython2",
   "version": "2.7.15"
  }
 },
 "nbformat": 4,
 "nbformat_minor": 2
}

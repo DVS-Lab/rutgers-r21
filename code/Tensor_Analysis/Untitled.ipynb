{
 "cells": [
  {
   "cell_type": "code",
   "execution_count": 1,
   "metadata": {},
   "outputs": [],
   "source": [
    "import pandas as pd \n",
    "import numpy as np\n",
    "import os\n",
    "import re\n",
    "import subprocess"
   ]
  },
  {
   "cell_type": "code",
   "execution_count": 2,
   "metadata": {},
   "outputs": [],
   "source": [
    "\n",
    "cwd=os.getcwd()\n",
    "fnames=pd.read_csv('../../rest_task_outlier_exclusion_data.csv')\n",
    "fnames=fnames['fname']\n"
   ]
  },
  {
   "cell_type": "code",
   "execution_count": 3,
   "metadata": {},
   "outputs": [
    {
     "name": "stdout",
     "output_type": "stream",
     "text": [
      "sub-212_task-rest_run-02_bold.json\n"
     ]
    },
    {
     "data": {
      "text/plain": [
       "'RPTJ'"
      ]
     },
     "metadata": {},
     "output_type": "display_data"
    },
    {
     "name": "stdout",
     "output_type": "stream",
     "text": [
      "sub-212_task-rest_run-01_bold.json\n"
     ]
    },
    {
     "data": {
      "text/plain": [
       "'SHAMBOTH'"
      ]
     },
     "metadata": {},
     "output_type": "display_data"
    },
    {
     "name": "stdout",
     "output_type": "stream",
     "text": [
      "sub-218_task-rest_run-03_bold.json\n"
     ]
    },
    {
     "data": {
      "text/plain": [
       "'VLPFC'"
      ]
     },
     "metadata": {},
     "output_type": "display_data"
    },
    {
     "name": "stdout",
     "output_type": "stream",
     "text": [
      "sub-218_task-rest_run-01_bold.json\n"
     ]
    },
    {
     "data": {
      "text/plain": [
       "'SHAMBOTH'"
      ]
     },
     "metadata": {},
     "output_type": "display_data"
    },
    {
     "name": "stdout",
     "output_type": "stream",
     "text": [
      "sub-218_task-rest_run-04_bold.json\n"
     ]
    },
    {
     "data": {
      "text/plain": [
       "'BOTH'"
      ]
     },
     "metadata": {},
     "output_type": "display_data"
    },
    {
     "name": "stdout",
     "output_type": "stream",
     "text": [
      "sub-218_task-rest_run-02_bold.json\n"
     ]
    },
    {
     "data": {
      "text/plain": [
       "'RPTJ'"
      ]
     },
     "metadata": {},
     "output_type": "display_data"
    },
    {
     "name": "stdout",
     "output_type": "stream",
     "text": [
      "sub-228_task-rest_run-01_bold.json\n"
     ]
    },
    {
     "data": {
      "text/plain": [
       "'SHAMBOTH'"
      ]
     },
     "metadata": {},
     "output_type": "display_data"
    },
    {
     "name": "stdout",
     "output_type": "stream",
     "text": [
      "sub-228_task-rest_run-04_bold.json\n"
     ]
    },
    {
     "data": {
      "text/plain": [
       "'BOTH'"
      ]
     },
     "metadata": {},
     "output_type": "display_data"
    },
    {
     "name": "stdout",
     "output_type": "stream",
     "text": [
      "sub-228_task-rest_run-03_bold.json\n"
     ]
    },
    {
     "data": {
      "text/plain": [
       "'VLPFC'"
      ]
     },
     "metadata": {},
     "output_type": "display_data"
    },
    {
     "name": "stdout",
     "output_type": "stream",
     "text": [
      "sub-228_task-rest_run-02_bold.json\n"
     ]
    },
    {
     "data": {
      "text/plain": [
       "'RPTJ'"
      ]
     },
     "metadata": {},
     "output_type": "display_data"
    },
    {
     "name": "stdout",
     "output_type": "stream",
     "text": [
      "sub-221_task-rest_run-04_bold.json\n"
     ]
    },
    {
     "data": {
      "text/plain": [
       "'RPTJ'"
      ]
     },
     "metadata": {},
     "output_type": "display_data"
    },
    {
     "name": "stdout",
     "output_type": "stream",
     "text": [
      "sub-221_task-rest_run-02_bold.json\n"
     ]
    },
    {
     "data": {
      "text/plain": [
       "'SHAMBOTH'"
      ]
     },
     "metadata": {},
     "output_type": "display_data"
    },
    {
     "name": "stdout",
     "output_type": "stream",
     "text": [
      "sub-221_task-rest_run-01_bold.json\n"
     ]
    },
    {
     "data": {
      "text/plain": [
       "'VLPFC'"
      ]
     },
     "metadata": {},
     "output_type": "display_data"
    },
    {
     "name": "stdout",
     "output_type": "stream",
     "text": [
      "sub-221_task-rest_run-03_bold.json\n"
     ]
    },
    {
     "data": {
      "text/plain": [
       "'BOTH'"
      ]
     },
     "metadata": {},
     "output_type": "display_data"
    },
    {
     "name": "stdout",
     "output_type": "stream",
     "text": [
      "sub-213_task-rest_run-02_bold.json\n"
     ]
    },
    {
     "data": {
      "text/plain": [
       "'RPTJ'"
      ]
     },
     "metadata": {},
     "output_type": "display_data"
    },
    {
     "name": "stdout",
     "output_type": "stream",
     "text": [
      "sub-213_task-rest_run-01_bold.json\n"
     ]
    },
    {
     "data": {
      "text/plain": [
       "'SHAMBOTH'"
      ]
     },
     "metadata": {},
     "output_type": "display_data"
    },
    {
     "name": "stdout",
     "output_type": "stream",
     "text": [
      "sub-213_task-rest_run-04_bold.json\n"
     ]
    },
    {
     "data": {
      "text/plain": [
       "'BOTH'"
      ]
     },
     "metadata": {},
     "output_type": "display_data"
    },
    {
     "name": "stdout",
     "output_type": "stream",
     "text": [
      "sub-213_task-rest_run-03_bold.json\n"
     ]
    },
    {
     "data": {
      "text/plain": [
       "'VLPFC'"
      ]
     },
     "metadata": {},
     "output_type": "display_data"
    },
    {
     "name": "stdout",
     "output_type": "stream",
     "text": [
      "sub-215_task-rest_run-01_bold.json\n"
     ]
    },
    {
     "data": {
      "text/plain": [
       "'VLPFC'"
      ]
     },
     "metadata": {},
     "output_type": "display_data"
    },
    {
     "name": "stdout",
     "output_type": "stream",
     "text": [
      "sub-215_task-rest_run-02_bold.json\n"
     ]
    },
    {
     "data": {
      "text/plain": [
       "'SHAMBOTH'"
      ]
     },
     "metadata": {},
     "output_type": "display_data"
    },
    {
     "name": "stdout",
     "output_type": "stream",
     "text": [
      "sub-215_task-rest_run-04_bold.json\n"
     ]
    },
    {
     "data": {
      "text/plain": [
       "'RPTJ'"
      ]
     },
     "metadata": {},
     "output_type": "display_data"
    },
    {
     "name": "stdout",
     "output_type": "stream",
     "text": [
      "sub-215_task-rest_run-03_bold.json\n"
     ]
    },
    {
     "data": {
      "text/plain": [
       "'BOTH'"
      ]
     },
     "metadata": {},
     "output_type": "display_data"
    },
    {
     "name": "stdout",
     "output_type": "stream",
     "text": [
      "sub-227_task-rest_run-02_bold.json\n"
     ]
    },
    {
     "data": {
      "text/plain": [
       "'SHAMBOTH'"
      ]
     },
     "metadata": {},
     "output_type": "display_data"
    },
    {
     "name": "stdout",
     "output_type": "stream",
     "text": [
      "sub-227_task-rest_run-03_bold.json\n"
     ]
    },
    {
     "data": {
      "text/plain": [
       "'BOTH'"
      ]
     },
     "metadata": {},
     "output_type": "display_data"
    },
    {
     "name": "stdout",
     "output_type": "stream",
     "text": [
      "sub-227_task-rest_run-01_bold.json\n"
     ]
    },
    {
     "data": {
      "text/plain": [
       "'VLPFC'"
      ]
     },
     "metadata": {},
     "output_type": "display_data"
    },
    {
     "name": "stdout",
     "output_type": "stream",
     "text": [
      "sub-227_task-rest_run-04_bold.json\n"
     ]
    },
    {
     "data": {
      "text/plain": [
       "'RPTJ'"
      ]
     },
     "metadata": {},
     "output_type": "display_data"
    },
    {
     "name": "stdout",
     "output_type": "stream",
     "text": [
      "sub-231_task-rest_run-02_bold.json\n"
     ]
    },
    {
     "data": {
      "text/plain": [
       "'BOTH'"
      ]
     },
     "metadata": {},
     "output_type": "display_data"
    },
    {
     "name": "stdout",
     "output_type": "stream",
     "text": [
      "sub-231_task-rest_run-04_bold.json\n"
     ]
    },
    {
     "data": {
      "text/plain": [
       "'VLPFC'"
      ]
     },
     "metadata": {},
     "output_type": "display_data"
    },
    {
     "name": "stdout",
     "output_type": "stream",
     "text": [
      "sub-231_task-rest_run-03_bold.json\n"
     ]
    },
    {
     "data": {
      "text/plain": [
       "'SHAMBOTH'"
      ]
     },
     "metadata": {},
     "output_type": "display_data"
    },
    {
     "name": "stdout",
     "output_type": "stream",
     "text": [
      "sub-231_task-rest_run-01_bold.json\n"
     ]
    },
    {
     "data": {
      "text/plain": [
       "'RPTJ'"
      ]
     },
     "metadata": {},
     "output_type": "display_data"
    },
    {
     "name": "stdout",
     "output_type": "stream",
     "text": [
      "sub-210_task-rest_run-02_bold.json\n"
     ]
    },
    {
     "data": {
      "text/plain": [
       "'BOTH'"
      ]
     },
     "metadata": {},
     "output_type": "display_data"
    },
    {
     "name": "stdout",
     "output_type": "stream",
     "text": [
      "sub-210_task-rest_run-04_bold.json\n"
     ]
    },
    {
     "data": {
      "text/plain": [
       "'VLPFC'"
      ]
     },
     "metadata": {},
     "output_type": "display_data"
    },
    {
     "name": "stdout",
     "output_type": "stream",
     "text": [
      "sub-210_task-rest_run-03_bold.json\n"
     ]
    },
    {
     "data": {
      "text/plain": [
       "'SHAMBOTH'"
      ]
     },
     "metadata": {},
     "output_type": "display_data"
    },
    {
     "name": "stdout",
     "output_type": "stream",
     "text": [
      "sub-210_task-rest_run-01_bold.json\n"
     ]
    },
    {
     "data": {
      "text/plain": [
       "'RPTJ'"
      ]
     },
     "metadata": {},
     "output_type": "display_data"
    },
    {
     "name": "stdout",
     "output_type": "stream",
     "text": [
      "sub-224_task-rest_run-01_bold.json\n"
     ]
    },
    {
     "data": {
      "text/plain": [
       "'VLPFC'"
      ]
     },
     "metadata": {},
     "output_type": "display_data"
    },
    {
     "name": "stdout",
     "output_type": "stream",
     "text": [
      "sub-222_task-rest_run-02_bold.json\n"
     ]
    },
    {
     "data": {
      "text/plain": [
       "'BOTH'"
      ]
     },
     "metadata": {},
     "output_type": "display_data"
    },
    {
     "name": "stdout",
     "output_type": "stream",
     "text": [
      "sub-222_task-rest_run-03_bold.json\n"
     ]
    },
    {
     "data": {
      "text/plain": [
       "'SHAMBOTH'"
      ]
     },
     "metadata": {},
     "output_type": "display_data"
    },
    {
     "name": "stdout",
     "output_type": "stream",
     "text": [
      "sub-222_task-rest_run-01_bold.json\n"
     ]
    },
    {
     "data": {
      "text/plain": [
       "'RPTJ'"
      ]
     },
     "metadata": {},
     "output_type": "display_data"
    },
    {
     "name": "stdout",
     "output_type": "stream",
     "text": [
      "sub-222_task-rest_run-04_bold.json\n"
     ]
    },
    {
     "data": {
      "text/plain": [
       "'VLPFC'"
      ]
     },
     "metadata": {},
     "output_type": "display_data"
    },
    {
     "name": "stdout",
     "output_type": "stream",
     "text": [
      "sub-220_task-rest_run-03_bold.json\n"
     ]
    },
    {
     "data": {
      "text/plain": [
       "'BOTH'"
      ]
     },
     "metadata": {},
     "output_type": "display_data"
    },
    {
     "name": "stdout",
     "output_type": "stream",
     "text": [
      "sub-220_task-rest_run-01_bold.json\n"
     ]
    },
    {
     "data": {
      "text/plain": [
       "'VLPFC'"
      ]
     },
     "metadata": {},
     "output_type": "display_data"
    },
    {
     "name": "stdout",
     "output_type": "stream",
     "text": [
      "sub-220_task-rest_run-04_bold.json\n"
     ]
    },
    {
     "data": {
      "text/plain": [
       "'RPTJ'"
      ]
     },
     "metadata": {},
     "output_type": "display_data"
    },
    {
     "name": "stdout",
     "output_type": "stream",
     "text": [
      "sub-220_task-rest_run-02_bold.json\n"
     ]
    },
    {
     "data": {
      "text/plain": [
       "'SHAMBOTH'"
      ]
     },
     "metadata": {},
     "output_type": "display_data"
    },
    {
     "name": "stdout",
     "output_type": "stream",
     "text": [
      "sub-189_task-rest_run-03_bold.json\n"
     ]
    },
    {
     "data": {
      "text/plain": [
       "'BOTH'"
      ]
     },
     "metadata": {},
     "output_type": "display_data"
    },
    {
     "name": "stdout",
     "output_type": "stream",
     "text": [
      "sub-189_task-rest_run-02_bold.json\n"
     ]
    },
    {
     "data": {
      "text/plain": [
       "'SHAMBOTH'"
      ]
     },
     "metadata": {},
     "output_type": "display_data"
    },
    {
     "name": "stdout",
     "output_type": "stream",
     "text": [
      "sub-189_task-rest_run-01_bold.json\n"
     ]
    },
    {
     "data": {
      "text/plain": [
       "'VLPFC'"
      ]
     },
     "metadata": {},
     "output_type": "display_data"
    },
    {
     "name": "stdout",
     "output_type": "stream",
     "text": [
      "sub-189_task-rest_run-04_bold.json\n"
     ]
    },
    {
     "data": {
      "text/plain": [
       "'RPTJ'"
      ]
     },
     "metadata": {},
     "output_type": "display_data"
    },
    {
     "name": "stdout",
     "output_type": "stream",
     "text": [
      "sub-223_task-rest_run-04_bold.json\n"
     ]
    },
    {
     "data": {
      "text/plain": [
       "'BOTH'"
      ]
     },
     "metadata": {},
     "output_type": "display_data"
    },
    {
     "name": "stdout",
     "output_type": "stream",
     "text": [
      "sub-223_task-rest_run-02_bold.json\n"
     ]
    },
    {
     "data": {
      "text/plain": [
       "'RPTJ'"
      ]
     },
     "metadata": {},
     "output_type": "display_data"
    },
    {
     "name": "stdout",
     "output_type": "stream",
     "text": [
      "sub-223_task-rest_run-03_bold.json\n"
     ]
    },
    {
     "data": {
      "text/plain": [
       "'VLPFC'"
      ]
     },
     "metadata": {},
     "output_type": "display_data"
    },
    {
     "name": "stdout",
     "output_type": "stream",
     "text": [
      "sub-223_task-rest_run-01_bold.json\n"
     ]
    },
    {
     "data": {
      "text/plain": [
       "'SHAMBOTH'"
      ]
     },
     "metadata": {},
     "output_type": "display_data"
    },
    {
     "name": "stdout",
     "output_type": "stream",
     "text": [
      "sub-209_task-rest_run-01_bold.json\n"
     ]
    },
    {
     "data": {
      "text/plain": [
       "'SHAMBOTH'"
      ]
     },
     "metadata": {},
     "output_type": "display_data"
    },
    {
     "name": "stdout",
     "output_type": "stream",
     "text": [
      "sub-209_task-rest_run-03_bold.json\n"
     ]
    },
    {
     "data": {
      "text/plain": [
       "'VLPFC'"
      ]
     },
     "metadata": {},
     "output_type": "display_data"
    },
    {
     "name": "stdout",
     "output_type": "stream",
     "text": [
      "sub-209_task-rest_run-02_bold.json\n"
     ]
    },
    {
     "data": {
      "text/plain": [
       "'RPTJ'"
      ]
     },
     "metadata": {},
     "output_type": "display_data"
    },
    {
     "name": "stdout",
     "output_type": "stream",
     "text": [
      "sub-209_task-rest_run-04_bold.json\n"
     ]
    },
    {
     "data": {
      "text/plain": [
       "'BOTH'"
      ]
     },
     "metadata": {},
     "output_type": "display_data"
    },
    {
     "name": "stdout",
     "output_type": "stream",
     "text": [
      "sub-234_task-rest_run-04_bold.json\n"
     ]
    },
    {
     "data": {
      "text/plain": [
       "'SHAMBOTH'"
      ]
     },
     "metadata": {},
     "output_type": "display_data"
    },
    {
     "name": "stdout",
     "output_type": "stream",
     "text": [
      "sub-234_task-rest_run-02_bold.json\n"
     ]
    },
    {
     "data": {
      "text/plain": [
       "'VLPFC'"
      ]
     },
     "metadata": {},
     "output_type": "display_data"
    },
    {
     "name": "stdout",
     "output_type": "stream",
     "text": [
      "sub-234_task-rest_run-01_bold.json\n"
     ]
    },
    {
     "data": {
      "text/plain": [
       "'BOTH'"
      ]
     },
     "metadata": {},
     "output_type": "display_data"
    },
    {
     "name": "stdout",
     "output_type": "stream",
     "text": [
      "sub-234_task-rest_run-03_bold.json\n"
     ]
    },
    {
     "data": {
      "text/plain": [
       "'RPTJ'"
      ]
     },
     "metadata": {},
     "output_type": "display_data"
    },
    {
     "name": "stdout",
     "output_type": "stream",
     "text": [
      "sub-214_task-rest_run-03_bold.json\n"
     ]
    },
    {
     "data": {
      "text/plain": [
       "'RPTJ'"
      ]
     },
     "metadata": {},
     "output_type": "display_data"
    },
    {
     "name": "stdout",
     "output_type": "stream",
     "text": [
      "sub-214_task-rest_run-02_bold.json\n"
     ]
    },
    {
     "data": {
      "text/plain": [
       "'VLPFC'"
      ]
     },
     "metadata": {},
     "output_type": "display_data"
    },
    {
     "name": "stdout",
     "output_type": "stream",
     "text": [
      "sub-214_task-rest_run-04_bold.json\n"
     ]
    },
    {
     "data": {
      "text/plain": [
       "'SHAMBOTH'"
      ]
     },
     "metadata": {},
     "output_type": "display_data"
    },
    {
     "name": "stdout",
     "output_type": "stream",
     "text": [
      "sub-214_task-rest_run-01_bold.json\n"
     ]
    },
    {
     "data": {
      "text/plain": [
       "'BOTH'"
      ]
     },
     "metadata": {},
     "output_type": "display_data"
    },
    {
     "name": "stdout",
     "output_type": "stream",
     "text": [
      "sub-207_task-rest_run-02_bold.json\n"
     ]
    },
    {
     "data": {
      "text/plain": [
       "'SHAMBOTH'"
      ]
     },
     "metadata": {},
     "output_type": "display_data"
    },
    {
     "name": "stdout",
     "output_type": "stream",
     "text": [
      "sub-207_task-rest_run-04_bold.json\n"
     ]
    },
    {
     "data": {
      "text/plain": [
       "'RPTJ'"
      ]
     },
     "metadata": {},
     "output_type": "display_data"
    },
    {
     "name": "stdout",
     "output_type": "stream",
     "text": [
      "sub-207_task-rest_run-01_bold.json\n"
     ]
    },
    {
     "data": {
      "text/plain": [
       "'VLPFC'"
      ]
     },
     "metadata": {},
     "output_type": "display_data"
    },
    {
     "name": "stdout",
     "output_type": "stream",
     "text": [
      "sub-207_task-rest_run-03_bold.json\n"
     ]
    },
    {
     "data": {
      "text/plain": [
       "'BOTH'"
      ]
     },
     "metadata": {},
     "output_type": "display_data"
    },
    {
     "name": "stdout",
     "output_type": "stream",
     "text": [
      "sub-203_task-rest_run-04_bold.json\n"
     ]
    },
    {
     "data": {
      "text/plain": [
       "'VLPFC'"
      ]
     },
     "metadata": {},
     "output_type": "display_data"
    },
    {
     "name": "stdout",
     "output_type": "stream",
     "text": [
      "sub-203_task-rest_run-03_bold.json\n"
     ]
    },
    {
     "data": {
      "text/plain": [
       "'SHAMBOTH'"
      ]
     },
     "metadata": {},
     "output_type": "display_data"
    },
    {
     "name": "stdout",
     "output_type": "stream",
     "text": [
      "sub-203_task-rest_run-01_bold.json\n"
     ]
    },
    {
     "data": {
      "text/plain": [
       "'RPTJ'"
      ]
     },
     "metadata": {},
     "output_type": "display_data"
    },
    {
     "name": "stdout",
     "output_type": "stream",
     "text": [
      "sub-203_task-rest_run-02_bold.json\n"
     ]
    },
    {
     "data": {
      "text/plain": [
       "'BOTH'"
      ]
     },
     "metadata": {},
     "output_type": "display_data"
    },
    {
     "name": "stdout",
     "output_type": "stream",
     "text": [
      "sub-219_task-rest_run-01_bold.json\n"
     ]
    },
    {
     "data": {
      "text/plain": [
       "'BOTH'"
      ]
     },
     "metadata": {},
     "output_type": "display_data"
    },
    {
     "name": "stdout",
     "output_type": "stream",
     "text": [
      "sub-219_task-rest_run-03_bold.json\n"
     ]
    },
    {
     "data": {
      "text/plain": [
       "'RPTJ'"
      ]
     },
     "metadata": {},
     "output_type": "display_data"
    },
    {
     "name": "stdout",
     "output_type": "stream",
     "text": [
      "sub-219_task-rest_run-02_bold.json\n"
     ]
    },
    {
     "data": {
      "text/plain": [
       "'VLPFC'"
      ]
     },
     "metadata": {},
     "output_type": "display_data"
    },
    {
     "name": "stdout",
     "output_type": "stream",
     "text": [
      "sub-219_task-rest_run-04_bold.json\n"
     ]
    },
    {
     "data": {
      "text/plain": [
       "'SHAMBOTH'"
      ]
     },
     "metadata": {},
     "output_type": "display_data"
    },
    {
     "name": "stdout",
     "output_type": "stream",
     "text": [
      "sub-217_task-rest_run-04_bold.json\n"
     ]
    },
    {
     "data": {
      "text/plain": [
       "'VLPFC'"
      ]
     },
     "metadata": {},
     "output_type": "display_data"
    },
    {
     "name": "stdout",
     "output_type": "stream",
     "text": [
      "sub-217_task-rest_run-02_bold.json\n"
     ]
    },
    {
     "data": {
      "text/plain": [
       "'BOTH'"
      ]
     },
     "metadata": {},
     "output_type": "display_data"
    },
    {
     "name": "stdout",
     "output_type": "stream",
     "text": [
      "sub-217_task-rest_run-01_bold.json\n"
     ]
    },
    {
     "data": {
      "text/plain": [
       "'RPTJ'"
      ]
     },
     "metadata": {},
     "output_type": "display_data"
    },
    {
     "name": "stdout",
     "output_type": "stream",
     "text": [
      "sub-217_task-rest_run-03_bold.json\n"
     ]
    },
    {
     "data": {
      "text/plain": [
       "'SHAMBOTH'"
      ]
     },
     "metadata": {},
     "output_type": "display_data"
    },
    {
     "name": "stdout",
     "output_type": "stream",
     "text": [
      "sub-211_task-rest_run-03_bold.json\n"
     ]
    },
    {
     "data": {
      "text/plain": [
       "'RPTJ'"
      ]
     },
     "metadata": {},
     "output_type": "display_data"
    },
    {
     "name": "stdout",
     "output_type": "stream",
     "text": [
      "sub-211_task-rest_run-04_bold.json\n"
     ]
    },
    {
     "data": {
      "text/plain": [
       "'SHAMBOTH'"
      ]
     },
     "metadata": {},
     "output_type": "display_data"
    },
    {
     "name": "stdout",
     "output_type": "stream",
     "text": [
      "sub-211_task-rest_run-01_bold.json\n"
     ]
    },
    {
     "data": {
      "text/plain": [
       "'BOTH'"
      ]
     },
     "metadata": {},
     "output_type": "display_data"
    },
    {
     "name": "stdout",
     "output_type": "stream",
     "text": [
      "sub-211_task-rest_run-02_bold.json\n"
     ]
    },
    {
     "data": {
      "text/plain": [
       "'VLPFC'"
      ]
     },
     "metadata": {},
     "output_type": "display_data"
    },
    {
     "name": "stdout",
     "output_type": "stream",
     "text": [
      "sub-225_task-rest_run-01_bold.json\n"
     ]
    },
    {
     "data": {
      "text/plain": [
       "'BOTH'"
      ]
     },
     "metadata": {},
     "output_type": "display_data"
    },
    {
     "name": "stdout",
     "output_type": "stream",
     "text": [
      "sub-225_task-rest_run-04_bold.json\n"
     ]
    },
    {
     "data": {
      "text/plain": [
       "'SHAMBOTH'"
      ]
     },
     "metadata": {},
     "output_type": "display_data"
    },
    {
     "name": "stdout",
     "output_type": "stream",
     "text": [
      "sub-225_task-rest_run-03_bold.json\n"
     ]
    },
    {
     "data": {
      "text/plain": [
       "'RPTJ'"
      ]
     },
     "metadata": {},
     "output_type": "display_data"
    },
    {
     "name": "stdout",
     "output_type": "stream",
     "text": [
      "sub-225_task-rest_run-02_bold.json\n"
     ]
    },
    {
     "data": {
      "text/plain": [
       "'VLPFC'"
      ]
     },
     "metadata": {},
     "output_type": "display_data"
    },
    {
     "name": "stdout",
     "output_type": "stream",
     "text": [
      "sub-208_task-rest_run-04_bold.json\n"
     ]
    },
    {
     "data": {
      "text/plain": [
       "'SHAMBOTH'"
      ]
     },
     "metadata": {},
     "output_type": "display_data"
    },
    {
     "name": "stdout",
     "output_type": "stream",
     "text": [
      "sub-208_task-rest_run-01_bold.json\n"
     ]
    },
    {
     "data": {
      "text/plain": [
       "'BOTH'"
      ]
     },
     "metadata": {},
     "output_type": "display_data"
    },
    {
     "name": "stdout",
     "output_type": "stream",
     "text": [
      "sub-208_task-rest_run-02_bold.json\n"
     ]
    },
    {
     "data": {
      "text/plain": [
       "'VLPFC'"
      ]
     },
     "metadata": {},
     "output_type": "display_data"
    },
    {
     "name": "stdout",
     "output_type": "stream",
     "text": [
      "sub-208_task-rest_run-03_bold.json\n"
     ]
    },
    {
     "data": {
      "text/plain": [
       "'RPTJ'"
      ]
     },
     "metadata": {},
     "output_type": "display_data"
    },
    {
     "name": "stdout",
     "output_type": "stream",
     "text": [
      "sub-230_task-rest_run-02_bold.json\n"
     ]
    },
    {
     "data": {
      "text/plain": [
       "'RPTJ'"
      ]
     },
     "metadata": {},
     "output_type": "display_data"
    },
    {
     "name": "stdout",
     "output_type": "stream",
     "text": [
      "sub-230_task-rest_run-04_bold.json\n"
     ]
    },
    {
     "data": {
      "text/plain": [
       "'BOTH'"
      ]
     },
     "metadata": {},
     "output_type": "display_data"
    },
    {
     "name": "stdout",
     "output_type": "stream",
     "text": [
      "sub-230_task-rest_run-01_bold.json\n"
     ]
    },
    {
     "data": {
      "text/plain": [
       "'SHAMBOTH'"
      ]
     },
     "metadata": {},
     "output_type": "display_data"
    },
    {
     "name": "stdout",
     "output_type": "stream",
     "text": [
      "sub-230_task-rest_run-03_bold.json\n"
     ]
    },
    {
     "data": {
      "text/plain": [
       "'VLPFC'"
      ]
     },
     "metadata": {},
     "output_type": "display_data"
    }
   ],
   "source": [
    "for file in fnames:\n",
    "    print file\n",
    "    sub=re.search('sub-(.*)_task-', file).group(1)\n",
    "    run=re.search('run-(.*)_bold', file).group(1)\n",
    "    task=pd.read_csv('../../sourcedata/sub-%s/sub-%s_task-rest_run-%s_events.tsv'%(sub,sub,run),delimiter='\\t')\n",
    "    task=task['trial_type'][0]\n",
    "    display(task)\n",
    "    scriptname=\"preproc_sm_demean.sh\"\n",
    "    command=\"bash %s %s %s &\"%(scriptname, sub, run)\n",
    "    NCORES=25\n",
    "    !while [ $(ps -ef | grep -v grep | grep $scriptname | wc -l) -ge $NCORES ] ; do sleep 5s; done\n",
    "    subprocess.call(command, shell=True)\n",
    "    !sleep 5s\n",
    "\n"
   ]
  },
  {
   "cell_type": "code",
   "execution_count": 4,
   "metadata": {},
   "outputs": [
    {
     "data": {
      "application/json": {
       "cell": {
        "!": "OSMagics",
        "HTML": "Other",
        "SVG": "Other",
        "bash": "Other",
        "capture": "ExecutionMagics",
        "debug": "ExecutionMagics",
        "file": "Other",
        "html": "DisplayMagics",
        "javascript": "DisplayMagics",
        "js": "DisplayMagics",
        "latex": "DisplayMagics",
        "perl": "Other",
        "prun": "ExecutionMagics",
        "pypy": "Other",
        "python": "Other",
        "python2": "Other",
        "python3": "Other",
        "ruby": "Other",
        "script": "ScriptMagics",
        "sh": "Other",
        "svg": "DisplayMagics",
        "sx": "OSMagics",
        "system": "OSMagics",
        "time": "ExecutionMagics",
        "timeit": "ExecutionMagics",
        "writefile": "OSMagics"
       },
       "line": {
        "alias": "OSMagics",
        "alias_magic": "BasicMagics",
        "autocall": "AutoMagics",
        "automagic": "AutoMagics",
        "autosave": "KernelMagics",
        "bookmark": "OSMagics",
        "cat": "Other",
        "cd": "OSMagics",
        "clear": "KernelMagics",
        "colors": "BasicMagics",
        "config": "ConfigMagics",
        "connect_info": "KernelMagics",
        "cp": "Other",
        "debug": "ExecutionMagics",
        "dhist": "OSMagics",
        "dirs": "OSMagics",
        "doctest_mode": "BasicMagics",
        "ed": "Other",
        "edit": "KernelMagics",
        "env": "OSMagics",
        "gui": "BasicMagics",
        "hist": "Other",
        "history": "HistoryMagics",
        "killbgscripts": "ScriptMagics",
        "ldir": "Other",
        "less": "KernelMagics",
        "lf": "Other",
        "lk": "Other",
        "ll": "Other",
        "load": "CodeMagics",
        "load_ext": "ExtensionMagics",
        "loadpy": "CodeMagics",
        "logoff": "LoggingMagics",
        "logon": "LoggingMagics",
        "logstart": "LoggingMagics",
        "logstate": "LoggingMagics",
        "logstop": "LoggingMagics",
        "ls": "Other",
        "lsmagic": "BasicMagics",
        "lx": "Other",
        "macro": "ExecutionMagics",
        "magic": "BasicMagics",
        "man": "KernelMagics",
        "matplotlib": "PylabMagics",
        "mkdir": "Other",
        "more": "KernelMagics",
        "mv": "Other",
        "notebook": "BasicMagics",
        "page": "BasicMagics",
        "pastebin": "CodeMagics",
        "pdb": "ExecutionMagics",
        "pdef": "NamespaceMagics",
        "pdoc": "NamespaceMagics",
        "pfile": "NamespaceMagics",
        "pinfo": "NamespaceMagics",
        "pinfo2": "NamespaceMagics",
        "popd": "OSMagics",
        "pprint": "BasicMagics",
        "precision": "BasicMagics",
        "profile": "BasicMagics",
        "prun": "ExecutionMagics",
        "psearch": "NamespaceMagics",
        "psource": "NamespaceMagics",
        "pushd": "OSMagics",
        "pwd": "OSMagics",
        "pycat": "OSMagics",
        "pylab": "PylabMagics",
        "qtconsole": "KernelMagics",
        "quickref": "BasicMagics",
        "recall": "HistoryMagics",
        "rehashx": "OSMagics",
        "reload_ext": "ExtensionMagics",
        "rep": "Other",
        "rerun": "HistoryMagics",
        "reset": "NamespaceMagics",
        "reset_selective": "NamespaceMagics",
        "rm": "Other",
        "rmdir": "Other",
        "run": "ExecutionMagics",
        "save": "CodeMagics",
        "sc": "OSMagics",
        "set_env": "OSMagics",
        "store": "StoreMagics",
        "sx": "OSMagics",
        "system": "OSMagics",
        "tb": "ExecutionMagics",
        "time": "ExecutionMagics",
        "timeit": "ExecutionMagics",
        "unalias": "OSMagics",
        "unload_ext": "ExtensionMagics",
        "who": "NamespaceMagics",
        "who_ls": "NamespaceMagics",
        "whos": "NamespaceMagics",
        "xdel": "NamespaceMagics",
        "xmode": "BasicMagics"
       }
      },
      "text/plain": [
       "Available line magics:\n",
       "%alias  %alias_magic  %autocall  %automagic  %autosave  %bookmark  %cat  %cd  %clear  %colors  %config  %connect_info  %cp  %debug  %dhist  %dirs  %doctest_mode  %ed  %edit  %env  %gui  %hist  %history  %killbgscripts  %ldir  %less  %lf  %lk  %ll  %load  %load_ext  %loadpy  %logoff  %logon  %logstart  %logstate  %logstop  %ls  %lsmagic  %lx  %macro  %magic  %man  %matplotlib  %mkdir  %more  %mv  %notebook  %page  %pastebin  %pdb  %pdef  %pdoc  %pfile  %pinfo  %pinfo2  %popd  %pprint  %precision  %profile  %prun  %psearch  %psource  %pushd  %pwd  %pycat  %pylab  %qtconsole  %quickref  %recall  %rehashx  %reload_ext  %rep  %rerun  %reset  %reset_selective  %rm  %rmdir  %run  %save  %sc  %set_env  %store  %sx  %system  %tb  %time  %timeit  %unalias  %unload_ext  %who  %who_ls  %whos  %xdel  %xmode\n",
       "\n",
       "Available cell magics:\n",
       "%%!  %%HTML  %%SVG  %%bash  %%capture  %%debug  %%file  %%html  %%javascript  %%js  %%latex  %%perl  %%prun  %%pypy  %%python  %%python2  %%python3  %%ruby  %%script  %%sh  %%svg  %%sx  %%system  %%time  %%timeit  %%writefile\n",
       "\n",
       "Automagic is ON, % prefix IS NOT needed for line magics."
      ]
     },
     "execution_count": 4,
     "metadata": {},
     "output_type": "execute_result"
    }
   ],
   "source": [
    "%lsmagic\n"
   ]
  },
  {
   "cell_type": "code",
   "execution_count": null,
   "metadata": {},
   "outputs": [],
   "source": []
  },
  {
   "cell_type": "code",
   "execution_count": null,
   "metadata": {},
   "outputs": [],
   "source": []
  }
 ],
 "metadata": {
  "kernelspec": {
   "display_name": "Python 2",
   "language": "python",
   "name": "python2"
  },
  "language_info": {
   "codemirror_mode": {
    "name": "ipython",
    "version": 2
   },
   "file_extension": ".py",
   "mimetype": "text/x-python",
   "name": "python",
   "nbconvert_exporter": "python",
   "pygments_lexer": "ipython2",
   "version": "2.7.15"
  }
 },
 "nbformat": 4,
 "nbformat_minor": 2
}

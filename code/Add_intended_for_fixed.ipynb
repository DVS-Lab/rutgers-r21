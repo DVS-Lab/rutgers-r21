{
 "cells": [
  {
   "cell_type": "code",
   "execution_count": 1,
   "metadata": {},
   "outputs": [
    {
     "name": "stdout",
     "output_type": "stream",
     "text": [
      "/data/projects/klab/rutgers-r21/ds000001\n"
     ]
    }
   ],
   "source": [
    "# In[12]:\n",
    "\n",
    "\n",
    "#imports libraries\n",
    "import json\n",
    "import os\n",
    "import subprocess\n",
    "# sets subject number we can later set this to all in the bids folder\n",
    "\n",
    "#gets current working directory If your bids is in the same folder as this file this should work for everyone\n",
    "cwd = os.getcwd() \n",
    "bidsdir=\"/data/projects/klab/rutgers-r21/ds000001\"\n",
    "print bidsdir\n",
    "\n"
   ]
  },
  {
   "cell_type": "code",
   "execution_count": 2,
   "metadata": {},
   "outputs": [],
   "source": [
    "\n",
    "# In[2]:\n",
    "files= os.listdir(bidsdir)\n",
    "subs=[x for x in files if x.startswith('sub')]\n"
   ]
  },
  {
   "cell_type": "code",
   "execution_count": 16,
   "metadata": {},
   "outputs": [
    {
     "name": "stdout",
     "output_type": "stream",
     "text": [
      "sub-216\n",
      "sub-212\n",
      "sub-218\n",
      "sub-228\n",
      "sub-221\n",
      "sub-232\n",
      "sub-213\n",
      "sub-215\n",
      "sub-227\n",
      "sub-231\n",
      "sub-210\n",
      "sub-224\n",
      "sub-222\n",
      "sub-220\n",
      "sub-189\n",
      "sub-223\n",
      "sub-209\n",
      "sub-234\n",
      "sub-214\n",
      "sub-207\n",
      "sub-203\n",
      "sub-219\n",
      "sub-217\n",
      "sub-226\n",
      "sub-211\n",
      "sub-225\n",
      "sub-208\n",
      "sub-230\n"
     ]
    }
   ],
   "source": [
    "for subj in subs:\n",
    "    print subj\n",
    "    #makes list of the json files to edit\n",
    "    files=[os.path.join('%s/%s/fmap'%(bidsdir,subj), f) for f in os.listdir('%s/%s/fmap'%(bidsdir,subj))]\n",
    "    files_json = [i for i in files if i.endswith('.json')]\n",
    "    #makes list of the func files to add into the intended for field\n",
    "    files = [\"func/%s\"%(file) for file in os.listdir('%s/%s/func'%(bidsdir,subj))]\n",
    "    files_txt = [i for i in files if i.endswith('.nii.gz')]\n",
    "\n",
    "    #This could be done better but we open the json files ('r' for read only) as a dictionary add the Intended for key \n",
    "    #and add the func files to the key value\n",
    "    #The f.close is a duplication. f can only be used inside the with \"loop\"# we open the file again to write only and dump the dictionary to the files\n",
    "    for i in range(len(files_json)):\n",
    "        with open(files_json[i],'r')as f:\n",
    "            data=json.load(f)\n",
    "            data[\"IntendedFor\"]=[files_txt]\n",
    "            f.close\n",
    "        with open(files_json[i],'w')as f:\n",
    "            json.dump(data,f)\n",
    "            f.close\n"
   ]
  },
  {
   "cell_type": "code",
   "execution_count": 7,
   "metadata": {},
   "outputs": [
    {
     "data": {
      "text/plain": [
       "'/data/projects/klab/rutgers-r21/ds000001/sub-230/fmap'"
      ]
     },
     "execution_count": 7,
     "metadata": {},
     "output_type": "execute_result"
    }
   ],
   "source": [
    "files = os.path.abspath(\"%s/%s/fmap\"%(bidsdir,subj))\n",
    "files"
   ]
  },
  {
   "cell_type": "code",
   "execution_count": null,
   "metadata": {},
   "outputs": [],
   "source": []
  }
 ],
 "metadata": {
  "kernelspec": {
   "display_name": "Python 2",
   "language": "python",
   "name": "python2"
  },
  "language_info": {
   "codemirror_mode": {
    "name": "ipython",
    "version": 2
   },
   "file_extension": ".py",
   "mimetype": "text/x-python",
   "name": "python",
   "nbconvert_exporter": "python",
   "pygments_lexer": "ipython2",
   "version": "2.7.15"
  }
 },
 "nbformat": 4,
 "nbformat_minor": 2
}
